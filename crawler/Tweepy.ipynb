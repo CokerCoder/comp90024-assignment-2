{
 "cells": [
  {
   "cell_type": "code",
   "execution_count": 15,
   "metadata": {},
   "outputs": [],
   "source": [
    "import tweepy  "
   ]
  },
  {
   "cell_type": "code",
   "execution_count": 18,
   "metadata": {},
   "outputs": [],
   "source": [
    "consumer_key = \"IiP6IJaXPBydO5TIlJDsHVkw4\"   \n",
    "consumer_secret = \"5cabZq4WiCBC3ZnTlX5wBbIvskX5rmGXy1iftkUhwRE4zBRyxw\"   \n",
    "access_token = \"1017762893570306048-dQOTxnvRbK0YVbD2oQZA3wvujIGdse\"   \n",
    "access_token_secret = \"LqPOLBKcdWniK6V5jSdUykv2AH2eM0TVCeKMQ8t8fzQh4\"   "
   ]
  },
  {
   "cell_type": "code",
   "execution_count": 19,
   "metadata": {},
   "outputs": [],
   "source": [
    "# 创建认证对象\n",
    "auth = tweepy.OAuthHandler(consumer_key, consumer_secret)   \n",
    "\n",
    "#设置你的access token和access secret \n",
    "auth.set_access_token(access_token, access_token_secret)   \n",
    "\n",
    "# 传入auth参数，创建API对象 \n",
    "api = tweepy.API(auth, wait_on_rate_limit=True, wait_on_rate_limit_notify=True)   "
   ]
  },
  {
   "cell_type": "markdown",
   "metadata": {},
   "source": [
    "## 1.1 User 自己的主页\n",
    "主页，包括关注人"
   ]
  },
  {
   "cell_type": "code",
   "execution_count": 5,
   "metadata": {},
   "outputs": [
    {
     "output_type": "stream",
     "name": "stdout",
     "text": [
      "#CCCTEAM26\n16:37\n動くねこぺん日和ゆる敬語スタンプがリリースされました🍀\n\n詳しくはこちら\nhttps://t.co/jXamjlxcQr\n20:02 \n#CCCTEAM26\n#CCCTEAM26 19:59 好困💤\n#CCCTEAM26 19:38 为啥又记错team name了呢😭😭😭😭\nTest9 Quote test2 https://t.co/gxQ07Am7Fh\nTest 8 Quote https://t.co/EI9Ub0MHhT\nTest7 with mention @Nibelungenese\nTest6 with location\nTest5 with voice https://t.co/tktI1ukbe8\nTest4 with poll\nTest3 with hashtag #CCCTEAM23\nTest2 with image https://t.co/Kot8xOtTvF\nTest1\nねこぺん日和×くろくまくん\n友だち追加でスタンプもらえます🌸\n配布期間：2021/05/3まで\n\n詳しくはこちら\nhttps://t.co/sbhrkCkd4V https://t.co/8XYDkoBrB9\n４月のいちご大福カレンダーよろしければどうぞ🍡 https://t.co/iOD8h4jfcz\nもちはだ https://t.co/yXFlltPRew\n＼大阪でも開催決定／\n​\nLINEクリエイターズハウスが今度は大阪に登場✨\nここでしか買えない限定グッズが盛りだくさん♪\nフォトスポットも入場無料で楽しめます♪\n​\n会期：3/24(水)～4/5(月)\n会場：あべのハルカス近鉄本店… https://t.co/XsGe2zqIdV\nねこぺんはじめての塗り絵本『ねこぺん日和塗り絵BOOK のびのび元気なふたり』の発売が決定しました🐧📔🐈\n\n詳しくはこちら🐾\nhttps://t.co/3GSTLv9KS2 https://t.co/NHdHfhCRlT\nRT @LOFT_Official: ＼新発売／\n#ねこぺん日和 からスイーツアートの新商品が登場…🍩🍦💗\n■発売日：3/5(金)～順次\n■展開店舗：全国のロフト56店舗・ロフトネットストア\nネットストアは→https://t.co/1ukAydLQ1j\n店舗一覧は→https…\n"
     ]
    }
   ],
   "source": [
    "public_tweets = api.home_timeline() \n",
    "\n",
    "for tweet in public_tweets:     \n",
    " \n",
    "    print(tweet.text) "
   ]
  },
  {
   "cell_type": "code",
   "execution_count": 10,
   "metadata": {},
   "outputs": [],
   "source": [
    "json = tweet._json"
   ]
  },
  {
   "cell_type": "code",
   "execution_count": 14,
   "metadata": {},
   "outputs": [
    {
     "output_type": "execute_result",
     "data": {
      "text/plain": [
       "{'created_at': 'Fri Mar 05 09:38:00 +0000 2021',\n",
       " 'id': 1367771365273571334,\n",
       " 'id_str': '1367771365273571334',\n",
       " 'text': 'RT @LOFT_Official: ＼新発売／\\n#ねこぺん日和 からスイーツアートの新商品が登場…🍩🍦💗\\n■発売日：3/5(金)～順次\\n■展開店舗：全国のロフト56店舗・ロフトネットストア\\nネットストアは→https://t.co/1ukAydLQ1j\\n店舗一覧は→https…',\n",
       " 'truncated': False,\n",
       " 'entities': {'hashtags': [{'text': 'ねこぺん日和', 'indices': [25, 32]}],\n",
       "  'symbols': [],\n",
       "  'user_mentions': [{'screen_name': 'LOFT_Official',\n",
       "    'name': 'ロフト公式',\n",
       "    'id': 2166461340,\n",
       "    'id_str': '2166461340',\n",
       "    'indices': [3, 17]}],\n",
       "  'urls': [{'url': 'https://t.co/1ukAydLQ1j',\n",
       "    'expanded_url': 'https://bit.ly/3bSJAEs',\n",
       "    'display_url': 'bit.ly/3bSJAEs',\n",
       "    'indices': [104, 127]}]},\n",
       " 'source': '<a href=\"https://mobile.twitter.com\" rel=\"nofollow\">Twitter Web App</a>',\n",
       " 'in_reply_to_status_id': None,\n",
       " 'in_reply_to_status_id_str': None,\n",
       " 'in_reply_to_user_id': None,\n",
       " 'in_reply_to_user_id_str': None,\n",
       " 'in_reply_to_screen_name': None,\n",
       " 'user': {'id': 2240130716,\n",
       "  'id_str': '2240130716',\n",
       "  'name': 'もじじ',\n",
       "  'screen_name': 'mojimojiji',\n",
       "  'location': 'にっぽん',\n",
       "  'description': 'ちんちくりんの絵描きのぼっそり。LINEスタンプhttps://t.co/1gfChDF7fF グッズ→https://t.co/6WKEhPhRuT「ねこぺん日和」の商品化などのご相談はこちらhttps://t.co/d29MH49kOm',\n",
       "  'url': 'https://t.co/MOxJ7GkVW8',\n",
       "  'entities': {'url': {'urls': [{'url': 'https://t.co/MOxJ7GkVW8',\n",
       "      'expanded_url': 'http://lineblog.me/mojiji/',\n",
       "      'display_url': 'lineblog.me/mojiji/',\n",
       "      'indices': [0, 23]}]},\n",
       "   'description': {'urls': [{'url': 'https://t.co/1gfChDF7fF',\n",
       "      'expanded_url': 'http://urx2.nu/WQru',\n",
       "      'display_url': 'urx2.nu/WQru',\n",
       "      'indices': [24, 47]},\n",
       "     {'url': 'https://t.co/6WKEhPhRuT',\n",
       "      'expanded_url': 'http://goo.gl/4rVygo',\n",
       "      'display_url': 'goo.gl/4rVygo',\n",
       "      'indices': [52, 75]},\n",
       "     {'url': 'https://t.co/d29MH49kOm',\n",
       "      'expanded_url': 'https://www.linefriends.com/partnership.do',\n",
       "      'display_url': 'linefriends.com/partnership.do',\n",
       "      'indices': [97, 120]}]}},\n",
       "  'protected': False,\n",
       "  'followers_count': 174523,\n",
       "  'friends_count': 893,\n",
       "  'listed_count': 1387,\n",
       "  'created_at': 'Wed Dec 11 03:36:35 +0000 2013',\n",
       "  'favourites_count': 9469,\n",
       "  'utc_offset': None,\n",
       "  'time_zone': None,\n",
       "  'geo_enabled': False,\n",
       "  'verified': False,\n",
       "  'statuses_count': 8053,\n",
       "  'lang': None,\n",
       "  'contributors_enabled': False,\n",
       "  'is_translator': False,\n",
       "  'is_translation_enabled': False,\n",
       "  'profile_background_color': 'FBFFF5',\n",
       "  'profile_background_image_url': 'http://abs.twimg.com/images/themes/theme18/bg.gif',\n",
       "  'profile_background_image_url_https': 'https://abs.twimg.com/images/themes/theme18/bg.gif',\n",
       "  'profile_background_tile': False,\n",
       "  'profile_image_url': 'http://pbs.twimg.com/profile_images/1342661522724548609/QgkebZh__normal.jpg',\n",
       "  'profile_image_url_https': 'https://pbs.twimg.com/profile_images/1342661522724548609/QgkebZh__normal.jpg',\n",
       "  'profile_banner_url': 'https://pbs.twimg.com/profile_banners/2240130716/1610022747',\n",
       "  'profile_link_color': '1B95E0',\n",
       "  'profile_sidebar_border_color': 'FFFFFF',\n",
       "  'profile_sidebar_fill_color': 'F6F6F6',\n",
       "  'profile_text_color': '333333',\n",
       "  'profile_use_background_image': False,\n",
       "  'has_extended_profile': False,\n",
       "  'default_profile': False,\n",
       "  'default_profile_image': False,\n",
       "  'following': True,\n",
       "  'follow_request_sent': False,\n",
       "  'notifications': False,\n",
       "  'translator_type': 'none',\n",
       "  'withheld_in_countries': []},\n",
       " 'geo': None,\n",
       " 'coordinates': None,\n",
       " 'place': None,\n",
       " 'contributors': None,\n",
       " 'retweeted_status': {'created_at': 'Thu Mar 04 08:03:03 +0000 2021',\n",
       "  'id': 1367385083502419970,\n",
       "  'id_str': '1367385083502419970',\n",
       "  'text': '＼新発売／\\n#ねこぺん日和 からスイーツアートの新商品が登場…🍩🍦💗\\n■発売日：3/5(金)～順次\\n■展開店舗：全国のロフト56店舗・ロフトネットストア\\nネットストアは→https://t.co/1ukAydLQ1j\\n店舗一覧は→… https://t.co/eYtwL8IY8e',\n",
       "  'truncated': True,\n",
       "  'entities': {'hashtags': [{'text': 'ねこぺん日和', 'indices': [6, 13]}],\n",
       "   'symbols': [],\n",
       "   'user_mentions': [],\n",
       "   'urls': [{'url': 'https://t.co/1ukAydLQ1j',\n",
       "     'expanded_url': 'https://bit.ly/3bSJAEs',\n",
       "     'display_url': 'bit.ly/3bSJAEs',\n",
       "     'indices': [85, 108]},\n",
       "    {'url': 'https://t.co/eYtwL8IY8e',\n",
       "     'expanded_url': 'https://twitter.com/i/web/status/1367385083502419970',\n",
       "     'display_url': 'twitter.com/i/web/status/1…',\n",
       "     'indices': [117, 140]}]},\n",
       "  'source': '<a href=\"https://mobile.twitter.com\" rel=\"nofollow\">Twitter Web App</a>',\n",
       "  'in_reply_to_status_id': None,\n",
       "  'in_reply_to_status_id_str': None,\n",
       "  'in_reply_to_user_id': None,\n",
       "  'in_reply_to_user_id_str': None,\n",
       "  'in_reply_to_screen_name': None,\n",
       "  'user': {'id': 2166461340,\n",
       "   'id_str': '2166461340',\n",
       "   'name': 'ロフト公式',\n",
       "   'screen_name': 'LOFT_Official',\n",
       "   'location': '東京都千代田区',\n",
       "   'description': 'ロフト公式アカウントです。 くらしを楽しむモノ・コト情報をつぶやきます！ 【店舗アカウント】→ https://t.co/g9uscEKKIO 【お問い合わせ窓口】→https://t.co/kVs0ao6bwg ※ご紹介する商品は店舗によりお取扱いが異なります',\n",
       "   'url': 'https://t.co/KS9jobi1kj',\n",
       "   'entities': {'url': {'urls': [{'url': 'https://t.co/KS9jobi1kj',\n",
       "       'expanded_url': 'https://www.loft.co.jp/',\n",
       "       'display_url': 'loft.co.jp',\n",
       "       'indices': [0, 23]}]},\n",
       "    'description': {'urls': [{'url': 'https://t.co/g9uscEKKIO',\n",
       "       'expanded_url': 'https://twitter.com/i/lists/98993669',\n",
       "       'display_url': 'twitter.com/i/lists/989936…',\n",
       "       'indices': [48, 71]},\n",
       "      {'url': 'https://t.co/kVs0ao6bwg',\n",
       "       'expanded_url': 'http://bit.ly/2U54Ahc',\n",
       "       'display_url': 'bit.ly/2U54Ahc',\n",
       "       'indices': [83, 106]}]}},\n",
       "   'protected': False,\n",
       "   'followers_count': 178784,\n",
       "   'friends_count': 7831,\n",
       "   'listed_count': 1322,\n",
       "   'created_at': 'Thu Oct 31 11:15:23 +0000 2013',\n",
       "   'favourites_count': 13235,\n",
       "   'utc_offset': None,\n",
       "   'time_zone': None,\n",
       "   'geo_enabled': False,\n",
       "   'verified': True,\n",
       "   'statuses_count': 62750,\n",
       "   'lang': None,\n",
       "   'contributors_enabled': False,\n",
       "   'is_translator': False,\n",
       "   'is_translation_enabled': False,\n",
       "   'profile_background_color': '000000',\n",
       "   'profile_background_image_url': 'http://abs.twimg.com/images/themes/theme1/bg.png',\n",
       "   'profile_background_image_url_https': 'https://abs.twimg.com/images/themes/theme1/bg.png',\n",
       "   'profile_background_tile': False,\n",
       "   'profile_image_url': 'http://pbs.twimg.com/profile_images/1196205044594434049/dV8idbW4_normal.jpg',\n",
       "   'profile_image_url_https': 'https://pbs.twimg.com/profile_images/1196205044594434049/dV8idbW4_normal.jpg',\n",
       "   'profile_banner_url': 'https://pbs.twimg.com/profile_banners/2166461340/1619361579',\n",
       "   'profile_link_color': 'FAB81E',\n",
       "   'profile_sidebar_border_color': '000000',\n",
       "   'profile_sidebar_fill_color': '000000',\n",
       "   'profile_text_color': '000000',\n",
       "   'profile_use_background_image': False,\n",
       "   'has_extended_profile': False,\n",
       "   'default_profile': False,\n",
       "   'default_profile_image': False,\n",
       "   'following': False,\n",
       "   'follow_request_sent': False,\n",
       "   'notifications': False,\n",
       "   'translator_type': 'regular',\n",
       "   'withheld_in_countries': []},\n",
       "  'geo': None,\n",
       "  'coordinates': None,\n",
       "  'place': None,\n",
       "  'contributors': None,\n",
       "  'is_quote_status': False,\n",
       "  'retweet_count': 308,\n",
       "  'favorite_count': 1293,\n",
       "  'favorited': False,\n",
       "  'retweeted': False,\n",
       "  'possibly_sensitive': False,\n",
       "  'possibly_sensitive_appealable': False,\n",
       "  'lang': 'ja'},\n",
       " 'is_quote_status': False,\n",
       " 'retweet_count': 308,\n",
       " 'favorite_count': 0,\n",
       " 'favorited': False,\n",
       " 'retweeted': False,\n",
       " 'possibly_sensitive': False,\n",
       " 'possibly_sensitive_appealable': False,\n",
       " 'lang': 'ja'}"
      ]
     },
     "metadata": {},
     "execution_count": 14
    }
   ],
   "source": [
    "json"
   ]
  },
  {
   "cell_type": "markdown",
   "metadata": {},
   "source": [
    "## 1.2 特定User（需要User id）"
   ]
  },
  {
   "cell_type": "markdown",
   "metadata": {},
   "source": [
    "结论：\n",
    "1. 文本无改变 \n",
    "2. image有推特链接\n",
    "3. hashtag需要抓\n",
    "4. poll不显示\n",
    "5. voice有推特链接\n",
    "6. 地点不显示\n",
    "7. mention 需要抓\n",
    "8. 转推开头是RT\n",
    "9. Quote 只有Quote内容，没有原始推"
   ]
  },
  {
   "cell_type": "code",
   "execution_count": null,
   "metadata": {},
   "outputs": [],
   "source": [
    "name = \"Echoidz\"   \n",
    "tweetCount = 20 \n",
    "results = api.user_timeline(id=name, count=tweetCount) \n",
    "for tweet in results:\n",
    "    print(tweet.text)"
   ]
  },
  {
   "cell_type": "markdown",
   "metadata": {},
   "source": [
    "## 1.3 关键字抓取\n",
    "* 可以抓hashtages\n",
    "* 可以抓mention\n",
    "* 可以抓keyword"
   ]
  },
  {
   "cell_type": "code",
   "execution_count": null,
   "metadata": {},
   "outputs": [],
   "source": [
    "results = api.search(q = \"#CCCTEAM26\")\n",
    "\n",
    "for tweet in results:        \n",
    "    \n",
    "    print(tweet.user.screen_name,\"Tweeted:\",tweet.text) "
   ]
  },
  {
   "cell_type": "code",
   "execution_count": null,
   "metadata": {},
   "outputs": [],
   "source": [
    "query = \"Test4 with poll\"    \n",
    "\n",
    "language = \"en\" \n",
    "\n",
    "results = api.search(q=query, lang=language) \n",
    "\n",
    "for tweet in results:        \n",
    "    \n",
    "    print(tweet.user.screen_name,\"Tweeted:\",tweet.text) "
   ]
  },
  {
   "cell_type": "markdown",
   "metadata": {},
   "source": [
    "## 1.4 Get Particular user"
   ]
  },
  {
   "cell_type": "code",
   "execution_count": null,
   "metadata": {},
   "outputs": [],
   "source": [
    "user = api.get_user('Echoidz')"
   ]
  },
  {
   "cell_type": "code",
   "execution_count": null,
   "metadata": {},
   "outputs": [],
   "source": [
    "result = api.user_timeline() \n",
    "\n",
    "print(user.screen_name)\n",
    "print(user.followers_count)\n",
    "for friend in user.friends():\n",
    "    print(friend.screen_name)"
   ]
  },
  {
   "cell_type": "markdown",
   "metadata": {},
   "source": [
    "## 1.5 Get Trends， 流行趋势"
   ]
  },
  {
   "cell_type": "code",
   "execution_count": 44,
   "metadata": {},
   "outputs": [
    {
     "name": "stdout",
     "output_type": "stream",
     "text": [
      "Perth\n",
      "McGowan\n",
      "Sackboy\n",
      "#covid19WA\n",
      "#CumRocket\n",
      "Miles Morales\n",
      "jungkook\n",
      "#SaveYourTearsRemix\n",
      "sheridan\n",
      "Louis Vuitton\n",
      "Anzac Day\n",
      "Bobo\n",
      "ariana\n",
      "Travis Head\n",
      "Howard\n",
      "HOBI\n",
      "#FalconAndWinterSoldierFinale\n",
      "#sydneyisskyblue\n",
      "Pucovski\n",
      "abel\n",
      "Tamworth\n",
      "Blah\n",
      "Shock G\n",
      "Cricket Australia\n",
      "I NEED\n",
      "Spider-Man\n",
      "Labrador\n",
      "Alfie\n",
      "Porter Robinson\n",
      "HOSEOK\n",
      "Shrine\n",
      "Freo\n",
      "Mavs\n",
      "Riley Thilthorpe\n",
      "Elon Musk\n",
      "Western Australia\n",
      "Mercure\n",
      "Kevin Rudd\n",
      "Logan\n",
      "Latrell Mitchell\n",
      "Speers\n",
      "St George\n",
      "High Court\n",
      "Greens\n",
      "Ashes\n",
      "Caleb\n",
      "Press\n",
      "Hydrogen Valley\n",
      "dunkley\n",
      "Port Macquarie\n"
     ]
    }
   ],
   "source": [
    "WOEID = 1103816\n",
    "# Melbourne\n",
    "\n",
    "trends_result = api.trends_place(WOEID)\n",
    "\n",
    "for trend in trends_result[0][\"trends\"]:\n",
    "    print(trend[\"name\"])"
   ]
  },
  {
   "cell_type": "markdown",
   "metadata": {},
   "source": [
    "## 1.6 抓Media"
   ]
  },
  {
   "cell_type": "code",
   "execution_count": null,
   "metadata": {},
   "outputs": [],
   "source": [
    "name = \"Echoidz\"   \n",
    "results = api.user_timeline(id=name) \n",
    "for tweet in results:\n",
    "    if 'media' in tweet.entities:\n",
    "        for image in  tweet.entities['media']:\n",
    "            print(image['media_url'])"
   ]
  },
  {
   "cell_type": "markdown",
   "metadata": {},
   "source": [
    "## 1.6 to json"
   ]
  },
  {
   "cell_type": "code",
   "execution_count": 7,
   "metadata": {},
   "outputs": [],
   "source": [
    "import json"
   ]
  },
  {
   "cell_type": "code",
   "execution_count": null,
   "metadata": {},
   "outputs": [],
   "source": [
    "status = status_list[-2]"
   ]
  },
  {
   "cell_type": "code",
   "execution_count": null,
   "metadata": {},
   "outputs": [],
   "source": [
    "status.id_str"
   ]
  },
  {
   "cell_type": "code",
   "execution_count": 8,
   "metadata": {},
   "outputs": [],
   "source": [
    "status_list = api.user_timeline(\"Echoidz\" )\n",
    "status = status_list[-1]\n",
    "json_str = json.dumps(status._json)"
   ]
  },
  {
   "cell_type": "code",
   "execution_count": null,
   "metadata": {},
   "outputs": [],
   "source": [
    "status.id_str"
   ]
  },
  {
   "cell_type": "code",
   "execution_count": null,
   "metadata": {},
   "outputs": [],
   "source": [
    "status.entities"
   ]
  },
  {
   "cell_type": "code",
   "execution_count": 11,
   "metadata": {},
   "outputs": [],
   "source": [
    "status.place"
   ]
  },
  {
   "cell_type": "markdown",
   "metadata": {},
   "source": [
    "## 1.7 普通爬数据"
   ]
  },
  {
   "cell_type": "code",
   "execution_count": 1,
   "metadata": {},
   "outputs": [],
   "source": [
    "def crawl_by_loction():\n",
    "    # q is the key word of text\n",
    "    locations=[144.293405,-38.548275,145.493112,-37.505479]\n",
    "    tweets = tweepy.Cursor(api.search, q='food', geocode=\"-37.999250,144.997395,57km\", lang='en', until =\"2021-04-22\").items(500)    \n",
    "    for tweet in tweets:\n",
    "        if tweet.place:\n",
    "            print(\"Created_time: \", tweet.created_at)\n",
    "            print(\"text: \", tweet.text)\n",
    "            print(\"location: \", tweet.user.location)\n",
    "            print(\"place: \", tweet.place)\n",
    "            print(\"coordinates: \", tweet.coordinates)\n",
    "        #print(tweet)\n",
    "\n",
    "#crawl_by_loction()"
   ]
  },
  {
   "cell_type": "markdown",
   "metadata": {},
   "source": [
    "## 1.8 爬实时数据\n",
    "\n",
    "速度太慢？\n",
    "\n",
    "https://docs.tweepy.org/en/v3.4.0/auth_tutorial.html#auth-tutorial"
   ]
  },
  {
   "cell_type": "code",
   "execution_count": 2,
   "metadata": {},
   "outputs": [],
   "source": [
    "import tweepy"
   ]
  },
  {
   "cell_type": "code",
   "execution_count": 16,
   "metadata": {},
   "outputs": [],
   "source": [
    "#override tweepy.StreamListener to add logic to on_status\n",
    "twitter_place = []\n",
    "datalist = []\n",
    "class MyStreamListener(tweepy.StreamListener):\n",
    "\n",
    "    def on_status(self, status):\n",
    "        print(\"Find 1 tweet...\")\n",
    "        if status.place:\n",
    "        #if has_location_info(tweet):\n",
    "            print(\"Storing 1 tweet...\")\n",
    "            print(status.place)\n",
    "\n",
    "            #json_tweet = json.dumps(create_dict_input(tweet))\n",
    "            print(\"Storing 1 tweet...\")\n",
    "            \n",
    "            #database.save({\"doc\":json_tweet})"
   ]
  },
  {
   "cell_type": "code",
   "execution_count": 45,
   "metadata": {},
   "outputs": [
    {
     "output_type": "execute_result",
     "data": {
      "text/plain": [
       "'Tue Apr 27 14:39:15 +0000 2021'"
      ]
     },
     "metadata": {},
     "execution_count": 45
    }
   ],
   "source": [
    "datalist[0]._json[\"created_at\"]"
   ]
  },
  {
   "cell_type": "code",
   "execution_count": 48,
   "metadata": {},
   "outputs": [],
   "source": [
    "import json"
   ]
  },
  {
   "cell_type": "code",
   "execution_count": 22,
   "metadata": {},
   "outputs": [],
   "source": [
    "Listener = MyStreamListener()\n",
    "myStream = tweepy.Stream(auth = auth,listener=Listener)\n",
    "myStream.filter(locations=[144.293405,-38.548275,145.493112,-37.505479],languages='en')"
   ]
  },
  {
   "cell_type": "code",
   "execution_count": null,
   "metadata": {},
   "outputs": [],
   "source": []
  },
  {
   "cell_type": "code",
   "execution_count": 17,
   "metadata": {},
   "outputs": [
    {
     "output_type": "execute_result",
     "data": {
      "text/plain": [
       "False"
      ]
     },
     "metadata": {},
     "execution_count": 17
    }
   ],
   "source": [
    "myStream.running"
   ]
  },
  {
   "source": [
    "myStream.disconnect()"
   ],
   "cell_type": "code",
   "metadata": {},
   "execution_count": null,
   "outputs": []
  },
  {
   "cell_type": "code",
   "execution_count": 26,
   "metadata": {},
   "outputs": [
    {
     "output_type": "stream",
     "name": "stdout",
     "text": [
      "Place(_api=<tweepy.api.API object at 0x000001F1B5B585E0>, id='01864a8a64df9dc4', url='https://api.twitter.com/1.1/geo/id/01864a8a64df9dc4.json', place_type='city', name='Melbourne', full_name='Melbourne, Victoria', country_code='AU', country='Australia', bounding_box=BoundingBox(_api=<tweepy.api.API object at 0x000001F1B5B585E0>, type='Polygon', coordinates=[[[144.593742, -38.433859], [144.593742, -37.511274], [145.512529, -37.511274], [145.512529, -38.433859]]]), attributes={})\nname:  Melbourne\nfull_name:  Melbourne, Victoria\ncountry_code:  AU\ncountry:  Australia\ncoordinates:  [[[144.593742, -38.433859], [144.593742, -37.511274], [145.512529, -37.511274], [145.512529, -38.433859]]]\n"
     ]
    }
   ],
   "source": [
    "print(twitter_place[0])\n",
    "print(\"name: \",twitter_place[0].name)\n",
    "print(\"full_name: \",twitter_place[0].full_name)\n",
    "print(\"country_code: \",twitter_place[0].country_code)\n",
    "print(\"country: \",twitter_place[0].country)\n",
    "print(\"coordinates: \",twitter_place[0].bounding_box.coordinates)"
   ]
  },
  {
   "cell_type": "code",
   "execution_count": null,
   "metadata": {},
   "outputs": [],
   "source": []
  },
  {
   "cell_type": "markdown",
   "metadata": {},
   "source": [
    "## 1.9 Particular Data Range"
   ]
  },
  {
   "cell_type": "code",
   "execution_count": 10,
   "metadata": {},
   "outputs": [],
   "source": [
    "import datetime\n",
    "\n",
    "username = \"Nibelungenese\"\n",
    "startDate = datetime.datetime(2011, 6, 1, 0, 0, 0)\n",
    "endDate =   datetime.datetime(2014, 1, 1, 0, 0, 0)"
   ]
  },
  {
   "cell_type": "code",
   "execution_count": 11,
   "metadata": {},
   "outputs": [
    {
     "output_type": "execute_result",
     "data": {
      "text/plain": [
       "datetime.datetime(2011, 6, 1, 0, 0)"
      ]
     },
     "metadata": {},
     "execution_count": 11
    }
   ],
   "source": [
    "startDate"
   ]
  },
  {
   "cell_type": "code",
   "execution_count": null,
   "metadata": {},
   "outputs": [],
   "source": [
    "tweets = []\n",
    "tmpTweets = api.user_timeline(username)"
   ]
  },
  {
   "cell_type": "code",
   "execution_count": null,
   "metadata": {},
   "outputs": [],
   "source": [
    "for tweet in tmpTweets:\n",
    "    if tweet.created_at < endDate and tweet.created_at > startDate:\n",
    "        print(tweet.created_at,\"Within the time period\")"
   ]
  },
  {
   "cell_type": "code",
   "execution_count": 1,
   "metadata": {},
   "outputs": [],
   "source": [
    "import nltk"
   ]
  }
 ],
 "metadata": {
  "kernelspec": {
   "name": "python394jvsc74a57bd049fdda9a8f1b43ecf94cbf6adfec0c9149aed4e40f425dad389976f3db3c5b4b",
   "display_name": "Python 3.9.4 64-bit"
  },
  "language_info": {
   "codemirror_mode": {
    "name": "ipython",
    "version": 3
   },
   "file_extension": ".py",
   "mimetype": "text/x-python",
   "name": "python",
   "nbconvert_exporter": "python",
   "pygments_lexer": "ipython3",
   "version": "3.9.4"
  }
 },
 "nbformat": 4,
 "nbformat_minor": 4
}