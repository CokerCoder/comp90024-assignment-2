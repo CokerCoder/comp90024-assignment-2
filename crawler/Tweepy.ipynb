{
 "cells": [
  {
   "cell_type": "code",
   "execution_count": 3,
   "metadata": {},
   "outputs": [],
   "source": [
    "import tweepy  "
   ]
  },
  {
   "cell_type": "code",
   "execution_count": 4,
   "metadata": {},
   "outputs": [],
   "source": [
    "consumer_key = \"IiP6IJaXPBydO5TIlJDsHVkw4\"   \n",
    "consumer_secret = \"5cabZq4WiCBC3ZnTlX5wBbIvskX5rmGXy1iftkUhwRE4zBRyxw\"   \n",
    "access_token = \"1017762893570306048-dQOTxnvRbK0YVbD2oQZA3wvujIGdse\"   \n",
    "access_token_secret = \"LqPOLBKcdWniK6V5jSdUykv2AH2eM0TVCeKMQ8t8fzQh4\"   "
   ]
  },
  {
   "cell_type": "code",
   "execution_count": 5,
   "metadata": {},
   "outputs": [],
   "source": [
    "# 创建认证对象\n",
    "auth = tweepy.OAuthHandler(consumer_key, consumer_secret)   \n",
    "\n",
    "#设置你的access token和access secret \n",
    "auth.set_access_token(access_token, access_token_secret)   \n",
    "\n",
    "# 传入auth参数，创建API对象 \n",
    "api = tweepy.API(auth, wait_on_rate_limit=True, wait_on_rate_limit_notify=True)   "
   ]
  },
  {
   "cell_type": "markdown",
   "metadata": {},
   "source": [
    "## 1.1 User 自己的主页\n",
    "主页，包括关注人"
   ]
  },
  {
   "cell_type": "code",
   "execution_count": null,
   "metadata": {},
   "outputs": [],
   "source": [
    "public_tweets = api.home_timeline() \n",
    "\n",
    "for tweet in public_tweets:     \n",
    " \n",
    "    print(tweet.text) "
   ]
  },
  {
   "cell_type": "markdown",
   "metadata": {},
   "source": [
    "## 1.2 特定User（需要User id）"
   ]
  },
  {
   "cell_type": "markdown",
   "metadata": {},
   "source": [
    "结论：\n",
    "1. 文本无改变 \n",
    "2. image有推特链接\n",
    "3. hashtag需要抓\n",
    "4. poll不显示\n",
    "5. voice有推特链接\n",
    "6. 地点不显示\n",
    "7. mention 需要抓\n",
    "8. 转推开头是RT\n",
    "9. Quote 只有Quote内容，没有原始推"
   ]
  },
  {
   "cell_type": "code",
   "execution_count": null,
   "metadata": {},
   "outputs": [],
   "source": [
    "name = \"Echoidz\"   \n",
    "tweetCount = 20 \n",
    "results = api.user_timeline(id=name, count=tweetCount) \n",
    "for tweet in results:\n",
    "    print(tweet.text)"
   ]
  },
  {
   "cell_type": "markdown",
   "metadata": {},
   "source": [
    "## 1.3 关键字抓取\n",
    "* 可以抓hashtages\n",
    "* 可以抓mention\n",
    "* 可以抓keyword"
   ]
  },
  {
   "cell_type": "code",
   "execution_count": null,
   "metadata": {},
   "outputs": [],
   "source": [
    "results = api.search(q = \"#CCCTEAM26\")\n",
    "\n",
    "for tweet in results:        \n",
    "    \n",
    "    print(tweet.user.screen_name,\"Tweeted:\",tweet.text) "
   ]
  },
  {
   "cell_type": "code",
   "execution_count": null,
   "metadata": {},
   "outputs": [],
   "source": [
    "query = \"Test4 with poll\"    \n",
    "\n",
    "language = \"en\" \n",
    "\n",
    "results = api.search(q=query, lang=language) \n",
    "\n",
    "for tweet in results:        \n",
    "    \n",
    "    print(tweet.user.screen_name,\"Tweeted:\",tweet.text) "
   ]
  },
  {
   "cell_type": "markdown",
   "metadata": {},
   "source": [
    "## 1.4 Get Particular user"
   ]
  },
  {
   "cell_type": "code",
   "execution_count": null,
   "metadata": {},
   "outputs": [],
   "source": [
    "user = api.get_user('Echoidz')"
   ]
  },
  {
   "cell_type": "code",
   "execution_count": null,
   "metadata": {},
   "outputs": [],
   "source": [
    "result = api.user_timeline() \n",
    "\n",
    "print(user.screen_name)\n",
    "print(user.followers_count)\n",
    "for friend in user.friends():\n",
    "    print(friend.screen_name)"
   ]
  },
  {
   "cell_type": "markdown",
   "metadata": {},
   "source": [
    "## 1.5 Get Trends， 流行趋势"
   ]
  },
  {
   "cell_type": "code",
   "execution_count": 44,
   "metadata": {},
   "outputs": [
    {
     "name": "stdout",
     "output_type": "stream",
     "text": [
      "Perth\n",
      "McGowan\n",
      "Sackboy\n",
      "#covid19WA\n",
      "#CumRocket\n",
      "Miles Morales\n",
      "jungkook\n",
      "#SaveYourTearsRemix\n",
      "sheridan\n",
      "Louis Vuitton\n",
      "Anzac Day\n",
      "Bobo\n",
      "ariana\n",
      "Travis Head\n",
      "Howard\n",
      "HOBI\n",
      "#FalconAndWinterSoldierFinale\n",
      "#sydneyisskyblue\n",
      "Pucovski\n",
      "abel\n",
      "Tamworth\n",
      "Blah\n",
      "Shock G\n",
      "Cricket Australia\n",
      "I NEED\n",
      "Spider-Man\n",
      "Labrador\n",
      "Alfie\n",
      "Porter Robinson\n",
      "HOSEOK\n",
      "Shrine\n",
      "Freo\n",
      "Mavs\n",
      "Riley Thilthorpe\n",
      "Elon Musk\n",
      "Western Australia\n",
      "Mercure\n",
      "Kevin Rudd\n",
      "Logan\n",
      "Latrell Mitchell\n",
      "Speers\n",
      "St George\n",
      "High Court\n",
      "Greens\n",
      "Ashes\n",
      "Caleb\n",
      "Press\n",
      "Hydrogen Valley\n",
      "dunkley\n",
      "Port Macquarie\n"
     ]
    }
   ],
   "source": [
    "WOEID = 1103816\n",
    "# Melbourne\n",
    "\n",
    "trends_result = api.trends_place(WOEID)\n",
    "\n",
    "for trend in trends_result[0][\"trends\"]:\n",
    "    print(trend[\"name\"])"
   ]
  },
  {
   "cell_type": "markdown",
   "metadata": {},
   "source": [
    "## 1.6 抓Media"
   ]
  },
  {
   "cell_type": "code",
   "execution_count": null,
   "metadata": {},
   "outputs": [],
   "source": [
    "name = \"Echoidz\"   \n",
    "results = api.user_timeline(id=name) \n",
    "for tweet in results:\n",
    "    if 'media' in tweet.entities:\n",
    "        for image in  tweet.entities['media']:\n",
    "            print(image['media_url'])"
   ]
  },
  {
   "cell_type": "markdown",
   "metadata": {},
   "source": [
    "## 1.6 to json"
   ]
  },
  {
   "cell_type": "code",
   "execution_count": 7,
   "metadata": {},
   "outputs": [],
   "source": [
    "import json"
   ]
  },
  {
   "cell_type": "code",
   "execution_count": null,
   "metadata": {},
   "outputs": [],
   "source": [
    "status = status_list[-2]"
   ]
  },
  {
   "cell_type": "code",
   "execution_count": null,
   "metadata": {},
   "outputs": [],
   "source": [
    "status.id_str"
   ]
  },
  {
   "cell_type": "code",
   "execution_count": 8,
   "metadata": {},
   "outputs": [],
   "source": [
    "status_list = api.user_timeline(\"Echoidz\" )\n",
    "status = status_list[-1]\n",
    "json_str = json.dumps(status._json)"
   ]
  },
  {
   "cell_type": "code",
   "execution_count": null,
   "metadata": {},
   "outputs": [],
   "source": [
    "status.id_str"
   ]
  },
  {
   "cell_type": "code",
   "execution_count": null,
   "metadata": {},
   "outputs": [],
   "source": [
    "status.entities"
   ]
  },
  {
   "cell_type": "code",
   "execution_count": 11,
   "metadata": {},
   "outputs": [],
   "source": [
    "status.place"
   ]
  },
  {
   "cell_type": "markdown",
   "metadata": {},
   "source": [
    "## 1.7 普通爬数据"
   ]
  },
  {
   "cell_type": "code",
   "execution_count": 36,
   "metadata": {},
   "outputs": [
    {
     "name": "stdout",
     "output_type": "stream",
     "text": [
      "Created_time:  2021-04-21 22:56:51\n",
      "text:  Today I will be guest speaking at 2️⃣4️⃣-hour Global Marathon for #Sustainability at 01:00 PM AEST 🕐 @FAO… https://t.co/4oSz5YcCkE\n",
      "location:  Australia\n",
      "location:  Place(_api=<tweepy.api.API object at 0x0000022EB45D8760>, id='01864a8a64df9dc4', url='https://api.twitter.com/1.1/geo/id/01864a8a64df9dc4.json', place_type='city', name='Melbourne', full_name='Melbourne, Victoria', country_code='AU', country='Australia', contained_within=[], bounding_box=BoundingBox(_api=<tweepy.api.API object at 0x0000022EB45D8760>, type='Polygon', coordinates=[[[144.593741856, -38.433859306], [145.512528832, -38.433859306], [145.512528832, -37.5112737225], [144.593741856, -37.5112737225]]]), attributes={})\n",
      "Created_time:  2021-04-21 22:20:54\n",
      "text:  @thecwordagency ✔️Hinder. When I want to be creative I go to a cafe or food court in a mall.\n",
      "location:  Melbourne, Victoria, Australia\n",
      "location:  Place(_api=<tweepy.api.API object at 0x0000022EB45D8760>, id='01864a8a64df9dc4', url='https://api.twitter.com/1.1/geo/id/01864a8a64df9dc4.json', place_type='city', name='Melbourne', full_name='Melbourne, Victoria', country_code='AU', country='Australia', contained_within=[], bounding_box=BoundingBox(_api=<tweepy.api.API object at 0x0000022EB45D8760>, type='Polygon', coordinates=[[[144.593741856, -38.433859306], [145.512528832, -38.433859306], [145.512528832, -37.5112737225], [144.593741856, -37.5112737225]]]), attributes={})\n",
      "Created_time:  2021-04-21 12:49:16\n",
      "text:  why do americans all like buy food at school tho?\n",
      "\n",
      "here we have canteens that are normally on the pricier side but… https://t.co/8qQECTNog8\n",
      "location:  Melbourne, Victoria\n",
      "location:  Place(_api=<tweepy.api.API object at 0x0000022EB45D8760>, id='01864a8a64df9dc4', url='https://api.twitter.com/1.1/geo/id/01864a8a64df9dc4.json', place_type='city', name='Melbourne', full_name='Melbourne, Victoria', country_code='AU', country='Australia', contained_within=[], bounding_box=BoundingBox(_api=<tweepy.api.API object at 0x0000022EB45D8760>, type='Polygon', coordinates=[[[144.593741856, -38.433859306], [145.512528832, -38.433859306], [145.512528832, -37.5112737225], [144.593741856, -37.5112737225]]]), attributes={})\n",
      "Created_time:  2021-04-21 10:41:45\n",
      "text:  @thewashingup I do wonder how much poetic license is used sometimes trying to impress the judges. Which is a shame… https://t.co/MRg2HBN9d6\n",
      "location:  Rowville, Victoria, Australia\n",
      "location:  Place(_api=<tweepy.api.API object at 0x0000022EB45D8760>, id='01864a8a64df9dc4', url='https://api.twitter.com/1.1/geo/id/01864a8a64df9dc4.json', place_type='city', name='Melbourne', full_name='Melbourne, Victoria', country_code='AU', country='Australia', contained_within=[], bounding_box=BoundingBox(_api=<tweepy.api.API object at 0x0000022EB45D8760>, type='Polygon', coordinates=[[[144.593741856, -38.433859306], [145.512528832, -38.433859306], [145.512528832, -37.5112737225], [144.593741856, -37.5112737225]]]), attributes={})\n",
      "Created_time:  2021-04-21 10:39:59\n",
      "text:  Quail Broth, it’s her Comfort Food. Let’s hope The Judges giver her some Response, Jock says it’s Delicious but doe… https://t.co/6H8miAFM0T\n",
      "location:  Drysdale, Victoria, Australia\n",
      "location:  Place(_api=<tweepy.api.API object at 0x0000022EB45D8760>, id='01e09d30023a1735', url='https://api.twitter.com/1.1/geo/id/01e09d30023a1735.json', place_type='city', name='Drysdale - Clifton Springs', full_name='Drysdale - Clifton Springs, Victoria', country_code='AU', country='Australia', contained_within=[], bounding_box=BoundingBox(_api=<tweepy.api.API object at 0x0000022EB45D8760>, type='Polygon', coordinates=[[[144.548984448, -38.1832902925], [144.591636896, -38.1832902925], [144.591636896, -38.139118157], [144.548984448, -38.139118157]]]), attributes={})\n",
      "Created_time:  2021-04-21 09:48:39\n",
      "text:  ...Forest Cake with Figure Skating like he’s Mad. Kishwar’s making Barramundi with Noodles, she’s having a Good Coo… https://t.co/xZUd5N45Gc\n",
      "location:  Drysdale, Victoria, Australia\n",
      "location:  Place(_api=<tweepy.api.API object at 0x0000022EB45D8760>, id='01e09d30023a1735', url='https://api.twitter.com/1.1/geo/id/01e09d30023a1735.json', place_type='city', name='Drysdale - Clifton Springs', full_name='Drysdale - Clifton Springs, Victoria', country_code='AU', country='Australia', contained_within=[], bounding_box=BoundingBox(_api=<tweepy.api.API object at 0x0000022EB45D8760>, type='Polygon', coordinates=[[[144.548984448, -38.1832902925], [144.591636896, -38.1832902925], [144.591636896, -38.139118157], [144.548984448, -38.139118157]]]), attributes={})\n",
      "Created_time:  2021-04-21 06:58:57\n",
      "text:  Seasonal Produce Mugs for Food Lovers (NEW)\n",
      "Food-lovers always love to shop for the best seasonal produce and havin… https://t.co/pFaLSOKumR\n",
      "location:  Melbourne - Australia\n",
      "location:  Place(_api=<tweepy.api.API object at 0x0000022EB45D8760>, id='01864a8a64df9dc4', url='https://api.twitter.com/1.1/geo/id/01864a8a64df9dc4.json', place_type='city', name='Melbourne', full_name='Melbourne, Victoria', country_code='AU', country='Australia', contained_within=[], bounding_box=BoundingBox(_api=<tweepy.api.API object at 0x0000022EB45D8760>, type='Polygon', coordinates=[[[144.593741856, -38.433859306], [145.512528832, -38.433859306], [145.512528832, -37.5112737225], [144.593741856, -37.5112737225]]]), attributes={})\n",
      "Created_time:  2021-04-21 06:26:16\n",
      "text:  @CartwheelPrint Me too. Fascinating how the same food is called different things al over the world, and how the sam… https://t.co/k93aOKkGJz\n",
      "location:  Melbourne Australia\n",
      "location:  Place(_api=<tweepy.api.API object at 0x0000022EB45D8760>, id='01864a8a64df9dc4', url='https://api.twitter.com/1.1/geo/id/01864a8a64df9dc4.json', place_type='city', name='Melbourne', full_name='Melbourne, Victoria', country_code='AU', country='Australia', contained_within=[], bounding_box=BoundingBox(_api=<tweepy.api.API object at 0x0000022EB45D8760>, type='Polygon', coordinates=[[[144.593741856, -38.433859306], [145.512528832, -38.433859306], [145.512528832, -37.5112737225], [144.593741856, -37.5112737225]]]), attributes={})\n",
      "Created_time:  2021-04-21 05:49:35\n",
      "text:  @tobaccofreeaust @CancerCouncilWA @msh_wa Does it include food cooking smells if they aren't appealing? 'Drifting smell' isn't harmful\n",
      "location:  Melbourne, Victoria\n",
      "location:  Place(_api=<tweepy.api.API object at 0x0000022EB45D8760>, id='01864a8a64df9dc4', url='https://api.twitter.com/1.1/geo/id/01864a8a64df9dc4.json', place_type='city', name='Melbourne', full_name='Melbourne, Victoria', country_code='AU', country='Australia', contained_within=[], bounding_box=BoundingBox(_api=<tweepy.api.API object at 0x0000022EB45D8760>, type='Polygon', coordinates=[[[144.593741856, -38.433859306], [145.512528832, -38.433859306], [145.512528832, -37.5112737225], [144.593741856, -37.5112737225]]]), attributes={})\n",
      "Created_time:  2021-04-21 05:05:30\n",
      "text:  The wastewater disaster in Florida is a symptom of how we grow our food  https://t.co/IK08yTL83t\n",
      "location:  woomeLang \n",
      "location:  Place(_api=<tweepy.api.API object at 0x0000022EB45D8760>, id='01864a8a64df9dc4', url='https://api.twitter.com/1.1/geo/id/01864a8a64df9dc4.json', place_type='city', name='Melbourne', full_name='Melbourne, Victoria', country_code='AU', country='Australia', contained_within=[], bounding_box=BoundingBox(_api=<tweepy.api.API object at 0x0000022EB45D8760>, type='Polygon', coordinates=[[[144.593741856, -38.433859306], [145.512528832, -38.433859306], [145.512528832, -37.5112737225], [144.593741856, -37.5112737225]]]), attributes={})\n",
      "Created_time:  2021-04-21 03:24:16\n",
      "text:  @ohyoufox @Hexanguine This slow cooker tomato soup recipe (I add paprika in addition to what's on the website) + se… https://t.co/uLqpK4Zd56\n",
      "location:  Melbourne, Australia\n",
      "location:  Place(_api=<tweepy.api.API object at 0x0000022EB45D8760>, id='01864a8a64df9dc4', url='https://api.twitter.com/1.1/geo/id/01864a8a64df9dc4.json', place_type='city', name='Melbourne', full_name='Melbourne, Victoria', country_code='AU', country='Australia', contained_within=[], bounding_box=BoundingBox(_api=<tweepy.api.API object at 0x0000022EB45D8760>, type='Polygon', coordinates=[[[144.593741856, -38.433859306], [145.512528832, -38.433859306], [145.512528832, -37.5112737225], [144.593741856, -37.5112737225]]]), attributes={})\n"
     ]
    },
    {
     "name": "stdout",
     "output_type": "stream",
     "text": [
      "Created_time:  2021-04-20 23:03:20\n",
      "text:  I have absolutely no desire to watch competitive cooking on television! Stressful, tense and contrived. Watching to… https://t.co/ZyOqnY16dZ\n",
      "location:  Mornington, VIC. Australia\n",
      "location:  Place(_api=<tweepy.api.API object at 0x0000022EB45D8760>, id='01864a8a64df9dc4', url='https://api.twitter.com/1.1/geo/id/01864a8a64df9dc4.json', place_type='city', name='Melbourne', full_name='Melbourne, Victoria', country_code='AU', country='Australia', contained_within=[], bounding_box=BoundingBox(_api=<tweepy.api.API object at 0x0000022EB45D8760>, type='Polygon', coordinates=[[[144.593741856, -38.433859306], [145.512528832, -38.433859306], [145.512528832, -37.5112737225], [144.593741856, -37.5112737225]]]), attributes={})\n",
      "Created_time:  2021-04-20 22:41:27\n",
      "text:  Meanwhile door to door deliveries of everything from pizza to dog food is booming. Did much for keeping emissions d… https://t.co/p5Uu35dhy3\n",
      "location:  Melbourne, Victoria\n",
      "location:  Place(_api=<tweepy.api.API object at 0x0000022EB45D8760>, id='01864a8a64df9dc4', url='https://api.twitter.com/1.1/geo/id/01864a8a64df9dc4.json', place_type='city', name='Melbourne', full_name='Melbourne, Victoria', country_code='AU', country='Australia', contained_within=[], bounding_box=BoundingBox(_api=<tweepy.api.API object at 0x0000022EB45D8760>, type='Polygon', coordinates=[[[144.593741856, -38.433859306], [145.512528832, -38.433859306], [145.512528832, -37.5112737225], [144.593741856, -37.5112737225]]]), attributes={})\n",
      "Created_time:  2021-04-20 09:43:41\n",
      "text:  @jemlovesyoongi catch my food on the next eatjin my baby enjoys anything i make him 🥰\n",
      "location:  melb 🇦🇺 she/her\n",
      "location:  Place(_api=<tweepy.api.API object at 0x0000022EB45D8760>, id='01864a8a64df9dc4', url='https://api.twitter.com/1.1/geo/id/01864a8a64df9dc4.json', place_type='city', name='Melbourne', full_name='Melbourne, Victoria', country_code='AU', country='Australia', contained_within=[], bounding_box=BoundingBox(_api=<tweepy.api.API object at 0x0000022EB45D8760>, type='Polygon', coordinates=[[[144.593741856, -38.433859306], [145.512528832, -38.433859306], [145.512528832, -37.5112737225], [144.593741856, -37.5112737225]]]), attributes={})\n",
      "Created_time:  2021-04-20 09:42:06\n",
      "text:  Where are the fats on #masterchefau? Cmon, if you love food so much, show me!\n",
      "location:  Narrm - Wurundjeri land\n",
      "location:  Place(_api=<tweepy.api.API object at 0x0000022EB45D8760>, id='01864a8a64df9dc4', url='https://api.twitter.com/1.1/geo/id/01864a8a64df9dc4.json', place_type='city', name='Melbourne', full_name='Melbourne, Victoria', country_code='AU', country='Australia', contained_within=[], bounding_box=BoundingBox(_api=<tweepy.api.API object at 0x0000022EB45D8760>, type='Polygon', coordinates=[[[144.593741856, -38.433859306], [145.512528832, -38.433859306], [145.512528832, -37.5112737225], [144.593741856, -37.5112737225]]]), attributes={})\n",
      "Created_time:  2021-04-20 09:27:57\n",
      "text:  @jemlovesyoongi that man would eat anything if you called it food and put on a plate\n",
      "location:  melb 🇦🇺 she/her\n",
      "location:  Place(_api=<tweepy.api.API object at 0x0000022EB45D8760>, id='01864a8a64df9dc4', url='https://api.twitter.com/1.1/geo/id/01864a8a64df9dc4.json', place_type='city', name='Melbourne', full_name='Melbourne, Victoria', country_code='AU', country='Australia', contained_within=[], bounding_box=BoundingBox(_api=<tweepy.api.API object at 0x0000022EB45D8760>, type='Polygon', coordinates=[[[144.593741856, -38.433859306], [145.512528832, -38.433859306], [145.512528832, -37.5112737225], [144.593741856, -37.5112737225]]]), attributes={})\n",
      "Created_time:  2021-04-20 09:05:32\n",
      "text:  @thewashingup @minxybinks @be_frank_ @Bombergrl2000 @faroutsprout @neels_pandit @BTrobbiani @MandyCheevers @dpf1988… https://t.co/gF9z6yNOej\n",
      "location:  Melbourne, Australia\n",
      "location:  Place(_api=<tweepy.api.API object at 0x0000022EB45D8760>, id='01864a8a64df9dc4', url='https://api.twitter.com/1.1/geo/id/01864a8a64df9dc4.json', place_type='city', name='Melbourne', full_name='Melbourne, Victoria', country_code='AU', country='Australia', contained_within=[], bounding_box=BoundingBox(_api=<tweepy.api.API object at 0x0000022EB45D8760>, type='Polygon', coordinates=[[[144.593741856, -38.433859306], [145.512528832, -38.433859306], [145.512528832, -37.5112737225], [144.593741856, -37.5112737225]]]), attributes={})\n",
      "Created_time:  2021-04-20 08:46:57\n",
      "text:  Can you guess what food this is?\n",
      "Your clue is: eyesight\n",
      "Tune in Wednesday for the answer…\n",
      "\n",
      "#whatsthisfood #POCUS… https://t.co/ttcfW65XcV\n",
      "location:  Melbourne, Australia & Worldwide 🇦🇺\n",
      "location:  Place(_api=<tweepy.api.API object at 0x0000022EB45D8760>, id='01864a8a64df9dc4', url='https://api.twitter.com/1.1/geo/id/01864a8a64df9dc4.json', place_type='city', name='Melbourne', full_name='Melbourne, Victoria', country_code='AU', country='Australia', contained_within=[], bounding_box=BoundingBox(_api=<tweepy.api.API object at 0x0000022EB45D8760>, type='Polygon', coordinates=[[[144.593741856, -38.433859306], [145.512528832, -38.433859306], [145.512528832, -37.5112737225], [144.593741856, -37.5112737225]]]), attributes={})\n",
      "Created_time:  2021-04-20 08:44:45\n",
      "text:  @charles_haig01 @916_stevo @rohancct Exactly! And a lot of inner city people don’t understand this. They also think… https://t.co/ukbGbJJhdI\n",
      "location:  Richmond, Melbourne, Australia\n",
      "location:  Place(_api=<tweepy.api.API object at 0x0000022EB45D8760>, id='01864a8a64df9dc4', url='https://api.twitter.com/1.1/geo/id/01864a8a64df9dc4.json', place_type='city', name='Melbourne', full_name='Melbourne, Victoria', country_code='AU', country='Australia', contained_within=[], bounding_box=BoundingBox(_api=<tweepy.api.API object at 0x0000022EB45D8760>, type='Polygon', coordinates=[[[144.593741856, -38.433859306], [145.512528832, -38.433859306], [145.512528832, -37.5112737225], [144.593741856, -37.5112737225]]]), attributes={})\n",
      "Created_time:  2021-04-20 08:04:45\n",
      "text:  I'm at Paramount Food Court in Melbourne, VIC https://t.co/fcPi9p5v5Y\n",
      "location:  \n",
      "location:  Place(_api=<tweepy.api.API object at 0x0000022EB45D8760>, id='01864a8a64df9dc4', url='https://api.twitter.com/1.1/geo/id/01864a8a64df9dc4.json', place_type='city', name='Melbourne', full_name='Melbourne, Victoria', country_code='AU', country='Australia', contained_within=[], bounding_box=BoundingBox(_api=<tweepy.api.API object at 0x0000022EB45D8760>, type='Polygon', coordinates=[[[144.593741856, -38.433859306], [145.512528832, -38.433859306], [145.512528832, -37.5112737225], [144.593741856, -37.5112737225]]]), attributes={})\n",
      "Created_time:  2021-04-20 05:26:31\n",
      "text:  @GavN_ Oh then you’ll be great. Get some endone / Oxy and you’ll be right. Endone acts quickly but doesn’t last as… https://t.co/uPfN8oysim\n",
      "location:  Melbourne, Australia\n",
      "location:  Place(_api=<tweepy.api.API object at 0x0000022EB45D8760>, id='5c26f47a2826188d', url='https://api.twitter.com/1.1/geo/id/5c26f47a2826188d.json', place_type='neighborhood', name='Hawthorn East', full_name='Hawthorn East, Melbourne', country_code='AU', country='Australia', contained_within=[], bounding_box=BoundingBox(_api=<tweepy.api.API object at 0x0000022EB45D8760>, type='Polygon', coordinates=[[[145.040283, -37.84812399], [145.05935616, -37.84812399], [145.05935616, -37.81583199], [145.040283, -37.81583199]]]), attributes={})\n"
     ]
    }
   ],
   "source": [
    "def crawl_by_loction():\n",
    "    # q is the key word of text\n",
    "    locations=[144.293405,-38.548275,145.493112,-37.505479]\n",
    "    tweets = tweepy.Cursor(api.search, q='food', geocode=\"-37.999250,144.997395,57km\", lang='en', until =\"2021-04-22\").items(500)    \n",
    "    for tweet in tweets:\n",
    "        if tweet.place:\n",
    "            print(\"Created_time: \", tweet.created_at)\n",
    "            print(\"text: \", tweet.text)\n",
    "            print(\"location: \", tweet.user.location)\n",
    "            print(\"location: \", tweet.place)\n",
    "        #print(tweet)\n",
    "\n",
    "crawl_by_loction()"
   ]
  },
  {
   "cell_type": "code",
   "execution_count": 26,
   "metadata": {},
   "outputs": [],
   "source": [
    "def crawl_by_loction():\n",
    "    # q is the key word of text\n",
    "    locations=[144.293405,-38.548275,145.493112,-37.505479]\n",
    "    tweets = tweepy.Cursor(api.search, q='food', geocode=\"-37.999250,144.997395,57km\", lang='en', until =\"2021-04-22\").items(1)    \n",
    "    for tweet in tweets:\n",
    "        jsontweet=json.dumps(tweet._json)\n",
    "        return (jsontweet)\n",
    "        #print(tweet)"
   ]
  },
  {
   "cell_type": "code",
   "execution_count": 27,
   "metadata": {},
   "outputs": [],
   "source": [
    "jsontweet = crawl_by_loction()"
   ]
  },
  {
   "cell_type": "code",
   "execution_count": 28,
   "metadata": {},
   "outputs": [],
   "source": [
    "def do1tweet(json_tweet):\n",
    "    print(\"get one current tweet,suburb is below:(may be empty)\")\n",
    "    if json_tweet[\"place\"]:\n",
    "        if json_tweet[\"place\"][\"place_type\"]==\"neighborhood\":\n",
    "            old_name = json_tweet[\"place\"][\"name\"]\n",
    "            new_name = sub_name_normalisation(old_name)\n",
    "            if new_name !=None:\n",
    "                database.save({\"suburb\": new_name, \"doc\": json_tweet})\n",
    "                print(new_name)\n",
    "                return True\n",
    "    if json_tweet[\"coordinates\"]:\n",
    "        long,lat = json_tweet[\"coordinates\"][\"coordinates\"][0],json_tweet[\"coordinates\"][\"coordinates\"][1]\n",
    "        sub = cor2suburb([long,lat])\n",
    "        if sub!=None:\n",
    "            database.save({\"suburb\":sub,\"doc\":json_tweet})\n",
    "            print([long, lat, sub])\n",
    "            return True\n",
    "    return False"
   ]
  },
  {
   "cell_type": "code",
   "execution_count": 33,
   "metadata": {},
   "outputs": [],
   "source": [
    "data = json.loads(jsontweet)"
   ]
  },
  {
   "cell_type": "code",
   "execution_count": 35,
   "metadata": {},
   "outputs": [],
   "source": [
    "data[\"place\"]"
   ]
  },
  {
   "cell_type": "markdown",
   "metadata": {},
   "source": [
    "## 1.8 爬实时数据\n",
    "\n",
    "速度太慢？\n",
    "\n",
    "https://docs.tweepy.org/en/v3.4.0/auth_tutorial.html#auth-tutorial"
   ]
  },
  {
   "cell_type": "code",
   "execution_count": 37,
   "metadata": {},
   "outputs": [],
   "source": [
    "import tweepy"
   ]
  },
  {
   "cell_type": "code",
   "execution_count": 41,
   "metadata": {},
   "outputs": [],
   "source": [
    "#override tweepy.StreamListener to add logic to on_status\n",
    "class MyStreamListener(tweepy.StreamListener):\n",
    "\n",
    "    def on_status(self, status):\n",
    "        print(status.text)\n",
    "        print(status.place)"
   ]
  },
  {
   "cell_type": "code",
   "execution_count": 42,
   "metadata": {},
   "outputs": [],
   "source": [
    "Listener = MyStreamListener()\n",
    "myStream = tweepy.Stream(auth = auth,listener=Listener)"
   ]
  },
  {
   "cell_type": "code",
   "execution_count": 43,
   "metadata": {},
   "outputs": [
    {
     "name": "stdout",
     "output_type": "stream",
     "text": [
      "@dnbtt @popchopsHQ tomorrow night! https://t.co/OHUhv4BY3G\n",
      "Place(_api=<tweepy.api.API object at 0x0000022EB76D2B50>, id='01864a8a64df9dc4', url='https://api.twitter.com/1.1/geo/id/01864a8a64df9dc4.json', place_type='city', name='Melbourne', full_name='Melbourne, Victoria', country_code='AU', country='Australia', bounding_box=BoundingBox(_api=<tweepy.api.API object at 0x0000022EB76D2B50>, type='Polygon', coordinates=[[[144.593742, -38.433859], [144.593742, -37.511274], [145.512529, -37.511274], [145.512529, -38.433859]]]), attributes={})\n",
      "#FBF Always enjoy the presence of another caged fag. Guess who got to uncage and use the other’s hole next? 🔒😈 https://t.co/6T3jttJnBR\n",
      "Place(_api=<tweepy.api.API object at 0x0000022EB76D2B50>, id='01864a8a64df9dc4', url='https://api.twitter.com/1.1/geo/id/01864a8a64df9dc4.json', place_type='city', name='Melbourne', full_name='Melbourne, Victoria', country_code='AU', country='Australia', bounding_box=BoundingBox(_api=<tweepy.api.API object at 0x0000022EB76D2B50>, type='Polygon', coordinates=[[[144.593742, -38.433859], [144.593742, -37.511274], [145.512529, -37.511274], [145.512529, -38.433859]]]), attributes={})\n",
      "@SilversteinThor @patriottakes The nazi on the left on his mobile??\n",
      "Place(_api=<tweepy.api.API object at 0x0000022EB76D2B50>, id='0ec0c4fcacbd0083', url='https://api.twitter.com/1.1/geo/id/0ec0c4fcacbd0083.json', place_type='admin', name='Victoria', full_name='Victoria, Australia', country_code='AU', country='Australia', bounding_box=BoundingBox(_api=<tweepy.api.API object at 0x0000022EB76D2B50>, type='Polygon', coordinates=[[[140.961682, -39.15919], [140.961682, -33.980426], [149.976679, -33.980426], [149.976679, -39.15919]]]), attributes={})\n",
      "@CNBC Just when we started to feel we were getting on top of it.\n",
      "Place(_api=<tweepy.api.API object at 0x0000022EB76D2B50>, id='01864a8a64df9dc4', url='https://api.twitter.com/1.1/geo/id/01864a8a64df9dc4.json', place_type='city', name='Melbourne', full_name='Melbourne, Victoria', country_code='AU', country='Australia', bounding_box=BoundingBox(_api=<tweepy.api.API object at 0x0000022EB76D2B50>, type='Polygon', coordinates=[[[144.593742, -38.433859], [144.593742, -37.511274], [145.512529, -37.511274], [145.512529, -38.433859]]]), attributes={})\n",
      "@yashar @PreetBharara @annevclark @McHenryJD @lilapearl @gazelleemami @Helen_E_Shaw @tara_abell @kn8 @e_alexjung… https://t.co/1cyxqz5muG\n",
      "Place(_api=<tweepy.api.API object at 0x0000022EB76D2B50>, id='5f341436a5a2c18e', url='https://api.twitter.com/1.1/geo/id/5f341436a5a2c18e.json', place_type='neighborhood', name='Murrumbeena', full_name='Murrumbeena, Melbourne', country_code='AU', country='Australia', bounding_box=BoundingBox(_api=<tweepy.api.API object at 0x0000022EB76D2B50>, type='Polygon', coordinates=[[[145.060351, -37.908145], [145.060351, -37.884599], [145.078183, -37.884599], [145.078183, -37.908145]]]), attributes={})\n",
      "Teachers are the heart &amp; soul of Cranbourne. I’m incredibly grateful for their professionalism &amp; commitment. \n",
      "\n",
      "Thx… https://t.co/k34akrIR2R\n",
      "Place(_api=<tweepy.api.API object at 0x0000022EB76D2B50>, id='55da2dd95548efa2', url='https://api.twitter.com/1.1/geo/id/55da2dd95548efa2.json', place_type='neighborhood', name='Cranbourne', full_name='Cranbourne, Melbourne', country_code='AU', country='Australia', bounding_box=BoundingBox(_api=<tweepy.api.API object at 0x0000022EB76D2B50>, type='Polygon', coordinates=[[[145.249226, -38.144845], [145.249226, -38.08072], [145.295404, -38.08072], [145.295404, -38.144845]]]), attributes={})\n",
      "Here's a photo of my love and me...\n",
      "\"Persona; an ANVAM and Michael collaboration\n",
      "@mc_images \n",
      "@ANVAM310 https://t.co/o8ZfzuMlyf\n",
      "Place(_api=<tweepy.api.API object at 0x0000022EB76D2B50>, id='01bd76d80f0324ea', url='https://api.twitter.com/1.1/geo/id/01bd76d80f0324ea.json', place_type='city', name='Sunbury', full_name='Sunbury, Victoria', country_code='AU', country='Australia', bounding_box=BoundingBox(_api=<tweepy.api.API object at 0x0000022EB76D2B50>, type='Polygon', coordinates=[[[144.680455, -37.603654], [144.680455, -37.520261], [144.760199, -37.520261], [144.760199, -37.603654]]]), attributes={})\n",
      "Watched Shrek &amp; Shrek 2 today\n",
      "Place(_api=<tweepy.api.API object at 0x0000022EB76D2B50>, id='01864a8a64df9dc4', url='https://api.twitter.com/1.1/geo/id/01864a8a64df9dc4.json', place_type='city', name='Melbourne', full_name='Melbourne, Victoria', country_code='AU', country='Australia', bounding_box=BoundingBox(_api=<tweepy.api.API object at 0x0000022EB76D2B50>, type='Polygon', coordinates=[[[144.593742, -38.433859], [144.593742, -37.511274], [145.512529, -37.511274], [145.512529, -38.433859]]]), attributes={})\n",
      "Do you remember when you joined Twitter? I do! #MyTwitterAnniversary https://t.co/olJsrkOdMR\n",
      "Place(_api=<tweepy.api.API object at 0x0000022EB76D2B50>, id='01bd76d80f0324ea', url='https://api.twitter.com/1.1/geo/id/01bd76d80f0324ea.json', place_type='city', name='Sunbury', full_name='Sunbury, Victoria', country_code='AU', country='Australia', bounding_box=BoundingBox(_api=<tweepy.api.API object at 0x0000022EB76D2B50>, type='Polygon', coordinates=[[[144.680455, -37.603654], [144.680455, -37.520261], [144.760199, -37.520261], [144.760199, -37.603654]]]), attributes={})\n",
      "🔴 MEGA GLOBAL FRIDAY  NIGHT SERVICE | Day 190 \n",
      "\n",
      "24 April 2021 | From 3am AEST\n",
      "\n",
      "Streaming Live via @JesusIsComing_2… https://t.co/qoM1ej0Uti\n",
      "Place(_api=<tweepy.api.API object at 0x0000022EB76D2B50>, id='3f14ce28dc7c4566', url='https://api.twitter.com/1.1/geo/id/3f14ce28dc7c4566.json', place_type='country', name='Australia', full_name='Australia', country_code='AU', country='Australia', bounding_box=BoundingBox(_api=<tweepy.api.API object at 0x0000022EB76D2B50>, type='Polygon', coordinates=[[[112.921114, -43.740482], [112.921114, -9.142176], [159.109219, -9.142176], [159.109219, -43.740482]]]), attributes={})\n",
      "Western Ring Rd  (M80), Keilor East - lanes closed Altona bound, Two left lanes are closed on the E… https://t.co/bgpYh734tG #victraffic\n",
      "Place(_api=<tweepy.api.API object at 0x0000022EB76D2B50>, id='01864a8a64df9dc4', url='https://api.twitter.com/1.1/geo/id/01864a8a64df9dc4.json', place_type='city', name='Melbourne', full_name='Melbourne, Victoria', country_code='AU', country='Australia', bounding_box=BoundingBox(_api=<tweepy.api.API object at 0x0000022EB76D2B50>, type='Polygon', coordinates=[[[144.593742, -38.433859], [144.593742, -37.511274], [145.512529, -37.511274], [145.512529, -38.433859]]]), attributes={})\n",
      "@TorisCleo @ChloeWhiteAus Good science says climate change is real. Bad science makes sweeping generalisations abou… https://t.co/s1swMEwl0q\n",
      "Place(_api=<tweepy.api.API object at 0x0000022EB76D2B50>, id='01864a8a64df9dc4', url='https://api.twitter.com/1.1/geo/id/01864a8a64df9dc4.json', place_type='city', name='Melbourne', full_name='Melbourne, Victoria', country_code='AU', country='Australia', bounding_box=BoundingBox(_api=<tweepy.api.API object at 0x0000022EB76D2B50>, type='Polygon', coordinates=[[[144.593742, -38.433859], [144.593742, -37.511274], [145.512529, -37.511274], [145.512529, -38.433859]]]), attributes={})\n",
      "Very extreme way to relocate North Melbourne\n",
      "Place(_api=<tweepy.api.API object at 0x0000022EB76D2B50>, id='01864a8a64df9dc4', url='https://api.twitter.com/1.1/geo/id/01864a8a64df9dc4.json', place_type='city', name='Melbourne', full_name='Melbourne, Victoria', country_code='AU', country='Australia', bounding_box=BoundingBox(_api=<tweepy.api.API object at 0x0000022EB76D2B50>, type='Polygon', coordinates=[[[144.593742, -38.433859], [144.593742, -37.511274], [145.512529, -37.511274], [145.512529, -38.433859]]]), attributes={})\n",
      "A bit of spontaneous partner yoga at Choklits today 🧘‍♀️\n",
      "\n",
      "#yogapractice #childcare @ Choklits Child Care https://t.co/O4aC3YFBvK\n",
      "Place(_api=<tweepy.api.API object at 0x0000022EB76D2B50>, id='01864a8a64df9dc4', url='https://api.twitter.com/1.1/geo/id/01864a8a64df9dc4.json', place_type='city', name='Melbourne', full_name='Melbourne, Victoria', country_code='AU', country='Australia', bounding_box=BoundingBox(_api=<tweepy.api.API object at 0x0000022EB76D2B50>, type='Polygon', coordinates=[[[144.593742, -38.433859], [144.593742, -37.511274], [145.512529, -37.511274], [145.512529, -38.433859]]]), attributes={})\n"
     ]
    },
    {
     "name": "stdout",
     "output_type": "stream",
     "text": [
      "@Shushan49765498 @Elllls7 @SamHeughan @MyPeakChallenge Thank you!!!!\n",
      "Place(_api=<tweepy.api.API object at 0x0000022EB76D2B50>, id='01864a8a64df9dc4', url='https://api.twitter.com/1.1/geo/id/01864a8a64df9dc4.json', place_type='city', name='Melbourne', full_name='Melbourne, Victoria', country_code='AU', country='Australia', bounding_box=BoundingBox(_api=<tweepy.api.API object at 0x0000022EB76D2B50>, type='Polygon', coordinates=[[[144.593742, -38.433859], [144.593742, -37.511274], [145.512529, -37.511274], [145.512529, -38.433859]]]), attributes={})\n",
      "@AnthonyCole68 What’s with the hand on the heart thing??? Is he a Yank?\n",
      "Place(_api=<tweepy.api.API object at 0x0000022EB76D2B50>, id='0ec0c4fcacbd0083', url='https://api.twitter.com/1.1/geo/id/0ec0c4fcacbd0083.json', place_type='admin', name='Victoria', full_name='Victoria, Australia', country_code='AU', country='Australia', bounding_box=BoundingBox(_api=<tweepy.api.API object at 0x0000022EB76D2B50>, type='Polygon', coordinates=[[[140.961682, -39.15919], [140.961682, -33.980426], [149.976679, -33.980426], [149.976679, -39.15919]]]), attributes={})\n",
      "https://t.co/YHdNzC4dQD\n",
      "Place(_api=<tweepy.api.API object at 0x0000022EB76D2B50>, id='01864a8a64df9dc4', url='https://api.twitter.com/1.1/geo/id/01864a8a64df9dc4.json', place_type='city', name='Melbourne', full_name='Melbourne, Victoria', country_code='AU', country='Australia', bounding_box=BoundingBox(_api=<tweepy.api.API object at 0x0000022EB76D2B50>, type='Polygon', coordinates=[[[144.593742, -38.433859], [144.593742, -37.511274], [145.512529, -37.511274], [145.512529, -38.433859]]]), attributes={})\n",
      "fresh long hair 💇🏻‍♀️ https://t.co/l08GKus6cb\n",
      "Place(_api=<tweepy.api.API object at 0x0000022EB76D2B50>, id='01864a8a64df9dc4', url='https://api.twitter.com/1.1/geo/id/01864a8a64df9dc4.json', place_type='city', name='Melbourne', full_name='Melbourne, Victoria', country_code='AU', country='Australia', bounding_box=BoundingBox(_api=<tweepy.api.API object at 0x0000022EB76D2B50>, type='Polygon', coordinates=[[[144.593742, -38.433859], [144.593742, -37.511274], [145.512529, -37.511274], [145.512529, -38.433859]]]), attributes={})\n",
      "@MikeCarlton01 He makes a lot more sense when on mute\n",
      "Place(_api=<tweepy.api.API object at 0x0000022EB76D2B50>, id='0ec0c4fcacbd0083', url='https://api.twitter.com/1.1/geo/id/0ec0c4fcacbd0083.json', place_type='admin', name='Victoria', full_name='Victoria, Australia', country_code='AU', country='Australia', bounding_box=BoundingBox(_api=<tweepy.api.API object at 0x0000022EB76D2B50>, type='Polygon', coordinates=[[[140.961682, -39.15919], [140.961682, -33.980426], [149.976679, -33.980426], [149.976679, -39.15919]]]), attributes={})\n",
      "I just caught up with someone for an hour and it was awesome FYI🥰\n",
      "Place(_api=<tweepy.api.API object at 0x0000022EB76D2B50>, id='01864a8a64df9dc4', url='https://api.twitter.com/1.1/geo/id/01864a8a64df9dc4.json', place_type='city', name='Melbourne', full_name='Melbourne, Victoria', country_code='AU', country='Australia', bounding_box=BoundingBox(_api=<tweepy.api.API object at 0x0000022EB76D2B50>, type='Polygon', coordinates=[[[144.593742, -38.433859], [144.593742, -37.511274], [145.512529, -37.511274], [145.512529, -38.433859]]]), attributes={})\n",
      "Monash Fwy  (M1), Malvern East - lanes closed outbound, Left lane closed outbound prior to the… https://t.co/2bgdkbdGkL #victraffic\n",
      "Place(_api=<tweepy.api.API object at 0x0000022EB76D2B50>, id='01864a8a64df9dc4', url='https://api.twitter.com/1.1/geo/id/01864a8a64df9dc4.json', place_type='city', name='Melbourne', full_name='Melbourne, Victoria', country_code='AU', country='Australia', bounding_box=BoundingBox(_api=<tweepy.api.API object at 0x0000022EB76D2B50>, type='Polygon', coordinates=[[[144.593742, -38.433859], [144.593742, -37.511274], [145.512529, -37.511274], [145.512529, -38.433859]]]), attributes={})\n",
      "@Qldaah The blah blah blah bit was the only part that made sense\n",
      "Place(_api=<tweepy.api.API object at 0x0000022EB76D2B50>, id='0ec0c4fcacbd0083', url='https://api.twitter.com/1.1/geo/id/0ec0c4fcacbd0083.json', place_type='admin', name='Victoria', full_name='Victoria, Australia', country_code='AU', country='Australia', bounding_box=BoundingBox(_api=<tweepy.api.API object at 0x0000022EB76D2B50>, type='Polygon', coordinates=[[[140.961682, -39.15919], [140.961682, -33.980426], [149.976679, -33.980426], [149.976679, -39.15919]]]), attributes={})\n",
      "@dbell2100 True. And stop supporting weak lobby groups who support the government destroying their markets. GGL and… https://t.co/UBz5t9MOXI\n",
      "Place(_api=<tweepy.api.API object at 0x0000022EB76D2B50>, id='01864a8a64df9dc4', url='https://api.twitter.com/1.1/geo/id/01864a8a64df9dc4.json', place_type='city', name='Melbourne', full_name='Melbourne, Victoria', country_code='AU', country='Australia', bounding_box=BoundingBox(_api=<tweepy.api.API object at 0x0000022EB76D2B50>, type='Polygon', coordinates=[[[144.593742, -38.433859], [144.593742, -37.511274], [145.512529, -37.511274], [145.512529, -38.433859]]]), attributes={})\n",
      "@BrettxWilde That's ok no relevant SC players in that game anyway\n",
      "Place(_api=<tweepy.api.API object at 0x0000022EB76D2B50>, id='0ec0c4fcacbd0083', url='https://api.twitter.com/1.1/geo/id/0ec0c4fcacbd0083.json', place_type='admin', name='Victoria', full_name='Victoria, Australia', country_code='AU', country='Australia', bounding_box=BoundingBox(_api=<tweepy.api.API object at 0x0000022EB76D2B50>, type='Polygon', coordinates=[[[140.961682, -39.15919], [140.961682, -33.980426], [149.976679, -33.980426], [149.976679, -39.15919]]]), attributes={})\n",
      "@KangarooBeach Nope they cannot\n",
      "Place(_api=<tweepy.api.API object at 0x0000022EB76D2B50>, id='01864a8a64df9dc4', url='https://api.twitter.com/1.1/geo/id/01864a8a64df9dc4.json', place_type='city', name='Melbourne', full_name='Melbourne, Victoria', country_code='AU', country='Australia', bounding_box=BoundingBox(_api=<tweepy.api.API object at 0x0000022EB76D2B50>, type='Polygon', coordinates=[[[144.593742, -38.433859], [144.593742, -37.511274], [145.512529, -37.511274], [145.512529, -38.433859]]]), attributes={})\n",
      "@cameronwilson @thunderson23 Was on @9NewsMelb just before\n",
      "Place(_api=<tweepy.api.API object at 0x0000022EB76D2B50>, id='01864a8a64df9dc4', url='https://api.twitter.com/1.1/geo/id/01864a8a64df9dc4.json', place_type='city', name='Melbourne', full_name='Melbourne, Victoria', country_code='AU', country='Australia', bounding_box=BoundingBox(_api=<tweepy.api.API object at 0x0000022EB76D2B50>, type='Polygon', coordinates=[[[144.593742, -38.433859], [144.593742, -37.511274], [145.512529, -37.511274], [145.512529, -38.433859]]]), attributes={})\n",
      "It’s Friday, it’s 5.30 time to give a dog 🐶 a home. This is 7 yr old Indie @lostdogshome awaiting a new loving fami… https://t.co/etUGp96WxA\n",
      "Place(_api=<tweepy.api.API object at 0x0000022EB76D2B50>, id='01864a8a64df9dc4', url='https://api.twitter.com/1.1/geo/id/01864a8a64df9dc4.json', place_type='city', name='Melbourne', full_name='Melbourne, Victoria', country_code='AU', country='Australia', bounding_box=BoundingBox(_api=<tweepy.api.API object at 0x0000022EB76D2B50>, type='Polygon', coordinates=[[[144.593742, -38.433859], [144.593742, -37.511274], [145.512529, -37.511274], [145.512529, -38.433859]]]), attributes={})\n",
      "It's um... Entirely possible I like escape room games. https://t.co/MkhwxYqhok\n",
      "Place(_api=<tweepy.api.API object at 0x0000022EB76D2B50>, id='01864a8a64df9dc4', url='https://api.twitter.com/1.1/geo/id/01864a8a64df9dc4.json', place_type='city', name='Melbourne', full_name='Melbourne, Victoria', country_code='AU', country='Australia', bounding_box=BoundingBox(_api=<tweepy.api.API object at 0x0000022EB76D2B50>, type='Polygon', coordinates=[[[144.593742, -38.433859], [144.593742, -37.511274], [145.512529, -37.511274], [145.512529, -38.433859]]]), attributes={})\n",
      "@IPGAPulses prices are rising.\n",
      "Place(_api=<tweepy.api.API object at 0x0000022EB76D2B50>, id='01864a8a64df9dc4', url='https://api.twitter.com/1.1/geo/id/01864a8a64df9dc4.json', place_type='city', name='Melbourne', full_name='Melbourne, Victoria', country_code='AU', country='Australia', bounding_box=BoundingBox(_api=<tweepy.api.API object at 0x0000022EB76D2B50>, type='Polygon', coordinates=[[[144.593742, -38.433859], [144.593742, -37.511274], [145.512529, -37.511274], [145.512529, -38.433859]]]), attributes={})\n"
     ]
    },
    {
     "name": "stdout",
     "output_type": "stream",
     "text": [
      "@cameronwilson @thunderson23 They paid her $3 a day to pretty much do everything and they wouldn't let her sleep. S… https://t.co/H9OsRMTNgx\n",
      "Place(_api=<tweepy.api.API object at 0x0000022EB76D2B50>, id='01864a8a64df9dc4', url='https://api.twitter.com/1.1/geo/id/01864a8a64df9dc4.json', place_type='city', name='Melbourne', full_name='Melbourne, Victoria', country_code='AU', country='Australia', bounding_box=BoundingBox(_api=<tweepy.api.API object at 0x0000022EB76D2B50>, type='Polygon', coordinates=[[[144.593742, -38.433859], [144.593742, -37.511274], [145.512529, -37.511274], [145.512529, -38.433859]]]), attributes={})\n",
      "A few of our @graynicolls_ausnz bats in production. Cricket season 2021/22 is shaping up nicely. 👌 #playerssportsnz… https://t.co/b1TbNyW6iW\n",
      "Place(_api=<tweepy.api.API object at 0x0000022EB76D2B50>, id='01864a8a64df9dc4', url='https://api.twitter.com/1.1/geo/id/01864a8a64df9dc4.json', place_type='city', name='Melbourne', full_name='Melbourne, Victoria', country_code='AU', country='Australia', bounding_box=BoundingBox(_api=<tweepy.api.API object at 0x0000022EB76D2B50>, type='Polygon', coordinates=[[[144.593742, -38.433859], [144.593742, -37.511274], [145.512529, -37.511274], [145.512529, -38.433859]]]), attributes={})\n",
      "@susanlewisonlin It’s just Sally here Susan, sorry☺️❤️🐪\n",
      "Place(_api=<tweepy.api.API object at 0x0000022EB76D2B50>, id='0ec0c4fcacbd0083', url='https://api.twitter.com/1.1/geo/id/0ec0c4fcacbd0083.json', place_type='admin', name='Victoria', full_name='Victoria, Australia', country_code='AU', country='Australia', bounding_box=BoundingBox(_api=<tweepy.api.API object at 0x0000022EB76D2B50>, type='Polygon', coordinates=[[[140.961682, -39.15919], [140.961682, -33.980426], [149.976679, -33.980426], [149.976679, -39.15919]]]), attributes={})\n",
      "Favourite dog owners! https://t.co/HtMp58f2YI\n",
      "Place(_api=<tweepy.api.API object at 0x0000022EB76D2B50>, id='01864a8a64df9dc4', url='https://api.twitter.com/1.1/geo/id/01864a8a64df9dc4.json', place_type='city', name='Melbourne', full_name='Melbourne, Victoria', country_code='AU', country='Australia', bounding_box=BoundingBox(_api=<tweepy.api.API object at 0x0000022EB76D2B50>, type='Polygon', coordinates=[[[144.593742, -38.433859], [144.593742, -37.511274], [145.512529, -37.511274], [145.512529, -38.433859]]]), attributes={})\n",
      "@Gbemisoke Follow up things\n",
      "\n",
      "Loveet\n",
      "Place(_api=<tweepy.api.API object at 0x0000022EB76D2B50>, id='01864a8a64df9dc4', url='https://api.twitter.com/1.1/geo/id/01864a8a64df9dc4.json', place_type='city', name='Melbourne', full_name='Melbourne, Victoria', country_code='AU', country='Australia', bounding_box=BoundingBox(_api=<tweepy.api.API object at 0x0000022EB76D2B50>, type='Polygon', coordinates=[[[144.593742, -38.433859], [144.593742, -37.511274], [145.512529, -37.511274], [145.512529, -38.433859]]]), attributes={})\n",
      "@AlishaOFlaherty Or food.\n",
      "Place(_api=<tweepy.api.API object at 0x0000022EB76D2B50>, id='01864a8a64df9dc4', url='https://api.twitter.com/1.1/geo/id/01864a8a64df9dc4.json', place_type='city', name='Melbourne', full_name='Melbourne, Victoria', country_code='AU', country='Australia', bounding_box=BoundingBox(_api=<tweepy.api.API object at 0x0000022EB76D2B50>, type='Polygon', coordinates=[[[144.593742, -38.433859], [144.593742, -37.511274], [145.512529, -37.511274], [145.512529, -38.433859]]]), attributes={})\n",
      "I think the PM meant Bullshit Valley.  #auspol\n",
      "Place(_api=<tweepy.api.API object at 0x0000022EB76D2B50>, id='01864a8a64df9dc4', url='https://api.twitter.com/1.1/geo/id/01864a8a64df9dc4.json', place_type='city', name='Melbourne', full_name='Melbourne, Victoria', country_code='AU', country='Australia', bounding_box=BoundingBox(_api=<tweepy.api.API object at 0x0000022EB76D2B50>, type='Polygon', coordinates=[[[144.593742, -38.433859], [144.593742, -37.511274], [145.512529, -37.511274], [145.512529, -38.433859]]]), attributes={})\n",
      "@psimpsonmorgan @CNNTravel \"Day after Tomorow\" movie. ( nonsense)\n",
      "Place(_api=<tweepy.api.API object at 0x0000022EB76D2B50>, id='01864a8a64df9dc4', url='https://api.twitter.com/1.1/geo/id/01864a8a64df9dc4.json', place_type='city', name='Melbourne', full_name='Melbourne, Victoria', country_code='AU', country='Australia', bounding_box=BoundingBox(_api=<tweepy.api.API object at 0x0000022EB76D2B50>, type='Polygon', coordinates=[[[144.593742, -38.433859], [144.593742, -37.511274], [145.512529, -37.511274], [145.512529, -38.433859]]]), attributes={})\n",
      "@BrettxWilde Forgot about Ziebell 😭\n",
      "Place(_api=<tweepy.api.API object at 0x0000022EB76D2B50>, id='0ec0c4fcacbd0083', url='https://api.twitter.com/1.1/geo/id/0ec0c4fcacbd0083.json', place_type='admin', name='Victoria', full_name='Victoria, Australia', country_code='AU', country='Australia', bounding_box=BoundingBox(_api=<tweepy.api.API object at 0x0000022EB76D2B50>, type='Polygon', coordinates=[[[140.961682, -39.15919], [140.961682, -33.980426], [149.976679, -33.980426], [149.976679, -39.15919]]]), attributes={})\n",
      "Solidarity with our Sandgroper mates, may you crush this! 💪🏼😷❤️\n",
      "Place(_api=<tweepy.api.API object at 0x0000022EB76D2B50>, id='01864a8a64df9dc4', url='https://api.twitter.com/1.1/geo/id/01864a8a64df9dc4.json', place_type='city', name='Melbourne', full_name='Melbourne, Victoria', country_code='AU', country='Australia', bounding_box=BoundingBox(_api=<tweepy.api.API object at 0x0000022EB76D2B50>, type='Polygon', coordinates=[[[144.593742, -38.433859], [144.593742, -37.511274], [145.512529, -37.511274], [145.512529, -38.433859]]]), attributes={})\n",
      "https://t.co/QQVxsduyZl\n",
      "Place(_api=<tweepy.api.API object at 0x0000022EB76D2B50>, id='01864a8a64df9dc4', url='https://api.twitter.com/1.1/geo/id/01864a8a64df9dc4.json', place_type='city', name='Melbourne', full_name='Melbourne, Victoria', country_code='AU', country='Australia', bounding_box=BoundingBox(_api=<tweepy.api.API object at 0x0000022EB76D2B50>, type='Polygon', coordinates=[[[144.593742, -38.433859], [144.593742, -37.511274], [145.512529, -37.511274], [145.512529, -38.433859]]]), attributes={})\n",
      "Day of the dead tattoo on arm sleeve by Melbourne-based tattoo artist mrdiltattoo via Instagram\n",
      "#dayofthedeadtattoo… https://t.co/PoISpubAVM\n",
      "Place(_api=<tweepy.api.API object at 0x0000022EB76D2B50>, id='01864a8a64df9dc4', url='https://api.twitter.com/1.1/geo/id/01864a8a64df9dc4.json', place_type='city', name='Melbourne', full_name='Melbourne, Victoria', country_code='AU', country='Australia', bounding_box=BoundingBox(_api=<tweepy.api.API object at 0x0000022EB76D2B50>, type='Polygon', coordinates=[[[144.593742, -38.433859], [144.593742, -37.511274], [145.512529, -37.511274], [145.512529, -38.433859]]]), attributes={})\n",
      "@Sue_Dunlevy Jane Hume is really not up to it - sad that a person in her position knows so little about anything.\n",
      "Place(_api=<tweepy.api.API object at 0x0000022EB76D2B50>, id='0ec0c4fcacbd0083', url='https://api.twitter.com/1.1/geo/id/0ec0c4fcacbd0083.json', place_type='admin', name='Victoria', full_name='Victoria, Australia', country_code='AU', country='Australia', bounding_box=BoundingBox(_api=<tweepy.api.API object at 0x0000022EB76D2B50>, type='Polygon', coordinates=[[[140.961682, -39.15919], [140.961682, -33.980426], [149.976679, -33.980426], [149.976679, -39.15919]]]), attributes={})\n",
      "Big day to celebrate! Congrats to our fantastic RA Bonnie moving to a new role at Melbourne Connect. We are sad to… https://t.co/dXFYm78xGQ\n",
      "Place(_api=<tweepy.api.API object at 0x0000022EB76D2B50>, id='01864a8a64df9dc4', url='https://api.twitter.com/1.1/geo/id/01864a8a64df9dc4.json', place_type='city', name='Melbourne', full_name='Melbourne, Victoria', country_code='AU', country='Australia', bounding_box=BoundingBox(_api=<tweepy.api.API object at 0x0000022EB76D2B50>, type='Polygon', coordinates=[[[144.593742, -38.433859], [144.593742, -37.511274], [145.512529, -37.511274], [145.512529, -38.433859]]]), attributes={})\n",
      "UPDATE: The Vic man, in his 50s, was released from Perth HQ on 17 April and spent five days in Perth. WA Premier Ma… https://t.co/YX8QG76sba\n",
      "Place(_api=<tweepy.api.API object at 0x0000022EB76D2B50>, id='01864a8a64df9dc4', url='https://api.twitter.com/1.1/geo/id/01864a8a64df9dc4.json', place_type='city', name='Melbourne', full_name='Melbourne, Victoria', country_code='AU', country='Australia', bounding_box=BoundingBox(_api=<tweepy.api.API object at 0x0000022EB76D2B50>, type='Polygon', coordinates=[[[144.593742, -38.433859], [144.593742, -37.511274], [145.512529, -37.511274], [145.512529, -38.433859]]]), attributes={})\n"
     ]
    },
    {
     "name": "stdout",
     "output_type": "stream",
     "text": [
      "@BulldogLitig8or A lot of Clay Smith in Garcia. Especially the wonky kicking action. Will need to be as hard as a c… https://t.co/IV7YgHHYrF\n",
      "Place(_api=<tweepy.api.API object at 0x0000022EB76D2B50>, id='01864a8a64df9dc4', url='https://api.twitter.com/1.1/geo/id/01864a8a64df9dc4.json', place_type='city', name='Melbourne', full_name='Melbourne, Victoria', country_code='AU', country='Australia', bounding_box=BoundingBox(_api=<tweepy.api.API object at 0x0000022EB76D2B50>, type='Polygon', coordinates=[[[144.593742, -38.433859], [144.593742, -37.511274], [145.512529, -37.511274], [145.512529, -38.433859]]]), attributes={})\n",
      "@BraininaJar2 @TheJayBell Yessss, and if you play it with their custom-made Spotify soundtrack, the songs are not o… https://t.co/UIFF4nbujy\n",
      "Place(_api=<tweepy.api.API object at 0x0000022EB76D2B50>, id='01864a8a64df9dc4', url='https://api.twitter.com/1.1/geo/id/01864a8a64df9dc4.json', place_type='city', name='Melbourne', full_name='Melbourne, Victoria', country_code='AU', country='Australia', bounding_box=BoundingBox(_api=<tweepy.api.API object at 0x0000022EB76D2B50>, type='Polygon', coordinates=[[[144.593742, -38.433859], [144.593742, -37.511274], [145.512529, -37.511274], [145.512529, -38.433859]]]), attributes={})\n",
      "Rd.6 First Goal Kicker link is open until noon tomorrow \n",
      "\n",
      "https://t.co/J5P9Qk1Dwv\n",
      "Place(_api=<tweepy.api.API object at 0x0000022EB76D2B50>, id='01864a8a64df9dc4', url='https://api.twitter.com/1.1/geo/id/01864a8a64df9dc4.json', place_type='city', name='Melbourne', full_name='Melbourne, Victoria', country_code='AU', country='Australia', bounding_box=BoundingBox(_api=<tweepy.api.API object at 0x0000022EB76D2B50>, type='Polygon', coordinates=[[[144.593742, -38.433859], [144.593742, -37.511274], [145.512529, -37.511274], [145.512529, -38.433859]]]), attributes={})\n",
      "@Gbemisoke Btw, I coincidentally found this thread after reading yours and I-\n",
      "https://t.co/Kn7O1dzmzk\n",
      "Place(_api=<tweepy.api.API object at 0x0000022EB76D2B50>, id='01864a8a64df9dc4', url='https://api.twitter.com/1.1/geo/id/01864a8a64df9dc4.json', place_type='city', name='Melbourne', full_name='Melbourne, Victoria', country_code='AU', country='Australia', bounding_box=BoundingBox(_api=<tweepy.api.API object at 0x0000022EB76D2B50>, type='Polygon', coordinates=[[[144.593742, -38.433859], [144.593742, -37.511274], [145.512529, -37.511274], [145.512529, -38.433859]]]), attributes={})\n",
      "Twitter becomes platform of hope amid the despair of India’s COVID crisis https://t.co/NRkwySfBxQ\n",
      "Place(_api=<tweepy.api.API object at 0x0000022EB76D2B50>, id='01864a8a64df9dc4', url='https://api.twitter.com/1.1/geo/id/01864a8a64df9dc4.json', place_type='city', name='Melbourne', full_name='Melbourne, Victoria', country_code='AU', country='Australia', bounding_box=BoundingBox(_api=<tweepy.api.API object at 0x0000022EB76D2B50>, type='Polygon', coordinates=[[[144.593742, -38.433859], [144.593742, -37.511274], [145.512529, -37.511274], [145.512529, -38.433859]]]), attributes={})\n",
      "@edwinampreston @DelilahSDawson Confession: when I was four and attending my first birthday party with a houseful o… https://t.co/LQ0W8LwyqG\n",
      "Place(_api=<tweepy.api.API object at 0x0000022EB76D2B50>, id='01864a8a64df9dc4', url='https://api.twitter.com/1.1/geo/id/01864a8a64df9dc4.json', place_type='city', name='Melbourne', full_name='Melbourne, Victoria', country_code='AU', country='Australia', bounding_box=BoundingBox(_api=<tweepy.api.API object at 0x0000022EB76D2B50>, type='Polygon', coordinates=[[[144.593742, -38.433859], [144.593742, -37.511274], [145.512529, -37.511274], [145.512529, -38.433859]]]), attributes={})\n",
      "@BrettxWilde Surely they allow them to play? They're already there. Just behind closed doors?\n",
      "Place(_api=<tweepy.api.API object at 0x0000022EB76D2B50>, id='0ec0c4fcacbd0083', url='https://api.twitter.com/1.1/geo/id/0ec0c4fcacbd0083.json', place_type='admin', name='Victoria', full_name='Victoria, Australia', country_code='AU', country='Australia', bounding_box=BoundingBox(_api=<tweepy.api.API object at 0x0000022EB76D2B50>, type='Polygon', coordinates=[[[140.961682, -39.15919], [140.961682, -33.980426], [149.976679, -33.980426], [149.976679, -39.15919]]]), attributes={})\n",
      "@woodymcdonald love that Time For Dreams track! So good.\n",
      "Place(_api=<tweepy.api.API object at 0x0000022EB76D2B50>, id='01864a8a64df9dc4', url='https://api.twitter.com/1.1/geo/id/01864a8a64df9dc4.json', place_type='city', name='Melbourne', full_name='Melbourne, Victoria', country_code='AU', country='Australia', bounding_box=BoundingBox(_api=<tweepy.api.API object at 0x0000022EB76D2B50>, type='Polygon', coordinates=[[[144.593742, -38.433859], [144.593742, -37.511274], [145.512529, -37.511274], [145.512529, -38.433859]]]), attributes={})\n",
      "How the fuck was this guy allowed to get on a plane to Melbourne if he was positive? I'm assuming Melbourne will be… https://t.co/7dpOqVT6od\n",
      "Place(_api=<tweepy.api.API object at 0x0000022EB76D2B50>, id='01864a8a64df9dc4', url='https://api.twitter.com/1.1/geo/id/01864a8a64df9dc4.json', place_type='city', name='Melbourne', full_name='Melbourne, Victoria', country_code='AU', country='Australia', bounding_box=BoundingBox(_api=<tweepy.api.API object at 0x0000022EB76D2B50>, type='Polygon', coordinates=[[[144.593742, -38.433859], [144.593742, -37.511274], [145.512529, -37.511274], [145.512529, -38.433859]]]), attributes={})\n",
      "@Lasry08 Great to have you in town!\n",
      "Place(_api=<tweepy.api.API object at 0x0000022EB76D2B50>, id='01552cf31a0d108e', url='https://api.twitter.com/1.1/geo/id/01552cf31a0d108e.json', place_type='city', name='Geelong', full_name='Geelong, Victoria', country_code='AU', country='Australia', bounding_box=BoundingBox(_api=<tweepy.api.API object at 0x0000022EB76D2B50>, type='Polygon', coordinates=[[[144.290649, -38.216797], [144.290649, -38.048005], [144.448279, -38.048005], [144.448279, -38.216797]]]), attributes={})\n",
      "@ScottyMcGlynn Even better in eastern Australia, it’s after work time Friday\n",
      "Place(_api=<tweepy.api.API object at 0x0000022EB76D2B50>, id='0ec0c4fcacbd0083', url='https://api.twitter.com/1.1/geo/id/0ec0c4fcacbd0083.json', place_type='admin', name='Victoria', full_name='Victoria, Australia', country_code='AU', country='Australia', bounding_box=BoundingBox(_api=<tweepy.api.API object at 0x0000022EB76D2B50>, type='Polygon', coordinates=[[[140.961682, -39.15919], [140.961682, -33.980426], [149.976679, -33.980426], [149.976679, -39.15919]]]), attributes={})\n"
     ]
    },
    {
     "ename": "KeyboardInterrupt",
     "evalue": "",
     "output_type": "error",
     "traceback": [
      "\u001b[1;31m---------------------------------------------------------------------------\u001b[0m",
      "\u001b[1;31mKeyboardInterrupt\u001b[0m                         Traceback (most recent call last)",
      "\u001b[1;32m<ipython-input-43-e9410f994460>\u001b[0m in \u001b[0;36m<module>\u001b[1;34m\u001b[0m\n\u001b[1;32m----> 1\u001b[1;33m \u001b[0mmyStream\u001b[0m\u001b[1;33m.\u001b[0m\u001b[0mfilter\u001b[0m\u001b[1;33m(\u001b[0m\u001b[0mlocations\u001b[0m\u001b[1;33m=\u001b[0m\u001b[1;33m[\u001b[0m\u001b[1;36m144.293405\u001b[0m\u001b[1;33m,\u001b[0m\u001b[1;33m-\u001b[0m\u001b[1;36m38.548275\u001b[0m\u001b[1;33m,\u001b[0m\u001b[1;36m145.493112\u001b[0m\u001b[1;33m,\u001b[0m\u001b[1;33m-\u001b[0m\u001b[1;36m37.505479\u001b[0m\u001b[1;33m]\u001b[0m\u001b[1;33m)\u001b[0m\u001b[1;33m\u001b[0m\u001b[1;33m\u001b[0m\u001b[0m\n\u001b[0m",
      "\u001b[1;32mE:\\Anaconda\\lib\\site-packages\\tweepy\\streaming.py\u001b[0m in \u001b[0;36mfilter\u001b[1;34m(self, follow, track, is_async, locations, stall_warnings, languages, encoding, filter_level)\u001b[0m\n\u001b[0;32m    472\u001b[0m             \u001b[0mself\u001b[0m\u001b[1;33m.\u001b[0m\u001b[0mbody\u001b[0m\u001b[1;33m[\u001b[0m\u001b[1;34m'filter_level'\u001b[0m\u001b[1;33m]\u001b[0m \u001b[1;33m=\u001b[0m \u001b[0mfilter_level\u001b[0m\u001b[1;33m.\u001b[0m\u001b[0mencode\u001b[0m\u001b[1;33m(\u001b[0m\u001b[0mencoding\u001b[0m\u001b[1;33m)\u001b[0m\u001b[1;33m\u001b[0m\u001b[1;33m\u001b[0m\u001b[0m\n\u001b[0;32m    473\u001b[0m         \u001b[0mself\u001b[0m\u001b[1;33m.\u001b[0m\u001b[0msession\u001b[0m\u001b[1;33m.\u001b[0m\u001b[0mparams\u001b[0m \u001b[1;33m=\u001b[0m \u001b[1;33m{\u001b[0m\u001b[1;34m'delimited'\u001b[0m\u001b[1;33m:\u001b[0m \u001b[1;34m'length'\u001b[0m\u001b[1;33m}\u001b[0m\u001b[1;33m\u001b[0m\u001b[1;33m\u001b[0m\u001b[0m\n\u001b[1;32m--> 474\u001b[1;33m         \u001b[0mself\u001b[0m\u001b[1;33m.\u001b[0m\u001b[0m_start\u001b[0m\u001b[1;33m(\u001b[0m\u001b[0mis_async\u001b[0m\u001b[1;33m)\u001b[0m\u001b[1;33m\u001b[0m\u001b[1;33m\u001b[0m\u001b[0m\n\u001b[0m\u001b[0;32m    475\u001b[0m \u001b[1;33m\u001b[0m\u001b[0m\n\u001b[0;32m    476\u001b[0m     def sitestream(self, follow, stall_warnings=False,\n",
      "\u001b[1;32mE:\\Anaconda\\lib\\site-packages\\tweepy\\streaming.py\u001b[0m in \u001b[0;36m_start\u001b[1;34m(self, is_async)\u001b[0m\n\u001b[0;32m    387\u001b[0m             \u001b[0mself\u001b[0m\u001b[1;33m.\u001b[0m\u001b[0m_thread\u001b[0m\u001b[1;33m.\u001b[0m\u001b[0mstart\u001b[0m\u001b[1;33m(\u001b[0m\u001b[1;33m)\u001b[0m\u001b[1;33m\u001b[0m\u001b[1;33m\u001b[0m\u001b[0m\n\u001b[0;32m    388\u001b[0m         \u001b[1;32melse\u001b[0m\u001b[1;33m:\u001b[0m\u001b[1;33m\u001b[0m\u001b[1;33m\u001b[0m\u001b[0m\n\u001b[1;32m--> 389\u001b[1;33m             \u001b[0mself\u001b[0m\u001b[1;33m.\u001b[0m\u001b[0m_run\u001b[0m\u001b[1;33m(\u001b[0m\u001b[1;33m)\u001b[0m\u001b[1;33m\u001b[0m\u001b[1;33m\u001b[0m\u001b[0m\n\u001b[0m\u001b[0;32m    390\u001b[0m \u001b[1;33m\u001b[0m\u001b[0m\n\u001b[0;32m    391\u001b[0m     \u001b[1;32mdef\u001b[0m \u001b[0mon_closed\u001b[0m\u001b[1;33m(\u001b[0m\u001b[0mself\u001b[0m\u001b[1;33m,\u001b[0m \u001b[0mresp\u001b[0m\u001b[1;33m)\u001b[0m\u001b[1;33m:\u001b[0m\u001b[1;33m\u001b[0m\u001b[1;33m\u001b[0m\u001b[0m\n",
      "\u001b[1;32mE:\\Anaconda\\lib\\site-packages\\tweepy\\streaming.py\u001b[0m in \u001b[0;36m_run\u001b[1;34m(self)\u001b[0m\n\u001b[0;32m    287\u001b[0m                     \u001b[0mself\u001b[0m\u001b[1;33m.\u001b[0m\u001b[0msnooze_time\u001b[0m \u001b[1;33m=\u001b[0m \u001b[0mself\u001b[0m\u001b[1;33m.\u001b[0m\u001b[0msnooze_time_step\u001b[0m\u001b[1;33m\u001b[0m\u001b[1;33m\u001b[0m\u001b[0m\n\u001b[0;32m    288\u001b[0m                     \u001b[0mself\u001b[0m\u001b[1;33m.\u001b[0m\u001b[0mlistener\u001b[0m\u001b[1;33m.\u001b[0m\u001b[0mon_connect\u001b[0m\u001b[1;33m(\u001b[0m\u001b[1;33m)\u001b[0m\u001b[1;33m\u001b[0m\u001b[1;33m\u001b[0m\u001b[0m\n\u001b[1;32m--> 289\u001b[1;33m                     \u001b[0mself\u001b[0m\u001b[1;33m.\u001b[0m\u001b[0m_read_loop\u001b[0m\u001b[1;33m(\u001b[0m\u001b[0mresp\u001b[0m\u001b[1;33m)\u001b[0m\u001b[1;33m\u001b[0m\u001b[1;33m\u001b[0m\u001b[0m\n\u001b[0m\u001b[0;32m    290\u001b[0m             \u001b[1;32mexcept\u001b[0m \u001b[1;33m(\u001b[0m\u001b[0mTimeout\u001b[0m\u001b[1;33m,\u001b[0m \u001b[0mssl\u001b[0m\u001b[1;33m.\u001b[0m\u001b[0mSSLError\u001b[0m\u001b[1;33m)\u001b[0m \u001b[1;32mas\u001b[0m \u001b[0mexc\u001b[0m\u001b[1;33m:\u001b[0m\u001b[1;33m\u001b[0m\u001b[1;33m\u001b[0m\u001b[0m\n\u001b[0;32m    291\u001b[0m                 \u001b[1;31m# This is still necessary, as a SSLError can actually be\u001b[0m\u001b[1;33m\u001b[0m\u001b[1;33m\u001b[0m\u001b[1;33m\u001b[0m\u001b[0m\n",
      "\u001b[1;32mE:\\Anaconda\\lib\\site-packages\\tweepy\\streaming.py\u001b[0m in \u001b[0;36m_read_loop\u001b[1;34m(self, resp)\u001b[0m\n\u001b[0;32m    337\u001b[0m             \u001b[0mlength\u001b[0m \u001b[1;33m=\u001b[0m \u001b[1;36m0\u001b[0m\u001b[1;33m\u001b[0m\u001b[1;33m\u001b[0m\u001b[0m\n\u001b[0;32m    338\u001b[0m             \u001b[1;32mwhile\u001b[0m \u001b[1;32mnot\u001b[0m \u001b[0mresp\u001b[0m\u001b[1;33m.\u001b[0m\u001b[0mraw\u001b[0m\u001b[1;33m.\u001b[0m\u001b[0mclosed\u001b[0m\u001b[1;33m:\u001b[0m\u001b[1;33m\u001b[0m\u001b[1;33m\u001b[0m\u001b[0m\n\u001b[1;32m--> 339\u001b[1;33m                 \u001b[0mline\u001b[0m \u001b[1;33m=\u001b[0m \u001b[0mbuf\u001b[0m\u001b[1;33m.\u001b[0m\u001b[0mread_line\u001b[0m\u001b[1;33m(\u001b[0m\u001b[1;33m)\u001b[0m\u001b[1;33m\u001b[0m\u001b[1;33m\u001b[0m\u001b[0m\n\u001b[0m\u001b[0;32m    340\u001b[0m                 \u001b[0mstripped_line\u001b[0m \u001b[1;33m=\u001b[0m \u001b[0mline\u001b[0m\u001b[1;33m.\u001b[0m\u001b[0mstrip\u001b[0m\u001b[1;33m(\u001b[0m\u001b[1;33m)\u001b[0m \u001b[1;32mif\u001b[0m \u001b[0mline\u001b[0m \u001b[1;32melse\u001b[0m \u001b[0mline\u001b[0m \u001b[1;31m# line is sometimes None so we need to check here\u001b[0m\u001b[1;33m\u001b[0m\u001b[1;33m\u001b[0m\u001b[0m\n\u001b[0;32m    341\u001b[0m                 \u001b[1;32mif\u001b[0m \u001b[1;32mnot\u001b[0m \u001b[0mstripped_line\u001b[0m\u001b[1;33m:\u001b[0m\u001b[1;33m\u001b[0m\u001b[1;33m\u001b[0m\u001b[0m\n",
      "\u001b[1;32mE:\\Anaconda\\lib\\site-packages\\tweepy\\streaming.py\u001b[0m in \u001b[0;36mread_line\u001b[1;34m(self, sep)\u001b[0m\n\u001b[0;32m    198\u001b[0m             \u001b[1;32melse\u001b[0m\u001b[1;33m:\u001b[0m\u001b[1;33m\u001b[0m\u001b[1;33m\u001b[0m\u001b[0m\n\u001b[0;32m    199\u001b[0m                 \u001b[0mstart\u001b[0m \u001b[1;33m=\u001b[0m \u001b[0mlen\u001b[0m\u001b[1;33m(\u001b[0m\u001b[0mself\u001b[0m\u001b[1;33m.\u001b[0m\u001b[0m_buffer\u001b[0m\u001b[1;33m)\u001b[0m\u001b[1;33m\u001b[0m\u001b[1;33m\u001b[0m\u001b[0m\n\u001b[1;32m--> 200\u001b[1;33m             \u001b[0mself\u001b[0m\u001b[1;33m.\u001b[0m\u001b[0m_buffer\u001b[0m \u001b[1;33m+=\u001b[0m \u001b[0mself\u001b[0m\u001b[1;33m.\u001b[0m\u001b[0m_stream\u001b[0m\u001b[1;33m.\u001b[0m\u001b[0mread\u001b[0m\u001b[1;33m(\u001b[0m\u001b[0mself\u001b[0m\u001b[1;33m.\u001b[0m\u001b[0m_chunk_size\u001b[0m\u001b[1;33m)\u001b[0m\u001b[1;33m\u001b[0m\u001b[1;33m\u001b[0m\u001b[0m\n\u001b[0m\u001b[0;32m    201\u001b[0m         \u001b[1;32mreturn\u001b[0m \u001b[0msix\u001b[0m\u001b[1;33m.\u001b[0m\u001b[0mb\u001b[0m\u001b[1;33m(\u001b[0m\u001b[1;34m''\u001b[0m\u001b[1;33m)\u001b[0m\u001b[1;33m\u001b[0m\u001b[1;33m\u001b[0m\u001b[0m\n\u001b[0;32m    202\u001b[0m \u001b[1;33m\u001b[0m\u001b[0m\n",
      "\u001b[1;32mE:\\Anaconda\\lib\\site-packages\\urllib3\\response.py\u001b[0m in \u001b[0;36mread\u001b[1;34m(self, amt, decode_content, cache_content)\u001b[0m\n\u001b[0;32m    516\u001b[0m             \u001b[1;32melse\u001b[0m\u001b[1;33m:\u001b[0m\u001b[1;33m\u001b[0m\u001b[1;33m\u001b[0m\u001b[0m\n\u001b[0;32m    517\u001b[0m                 \u001b[0mcache_content\u001b[0m \u001b[1;33m=\u001b[0m \u001b[1;32mFalse\u001b[0m\u001b[1;33m\u001b[0m\u001b[1;33m\u001b[0m\u001b[0m\n\u001b[1;32m--> 518\u001b[1;33m                 \u001b[0mdata\u001b[0m \u001b[1;33m=\u001b[0m \u001b[0mself\u001b[0m\u001b[1;33m.\u001b[0m\u001b[0m_fp\u001b[0m\u001b[1;33m.\u001b[0m\u001b[0mread\u001b[0m\u001b[1;33m(\u001b[0m\u001b[0mamt\u001b[0m\u001b[1;33m)\u001b[0m \u001b[1;32mif\u001b[0m \u001b[1;32mnot\u001b[0m \u001b[0mfp_closed\u001b[0m \u001b[1;32melse\u001b[0m \u001b[1;34mb\"\"\u001b[0m\u001b[1;33m\u001b[0m\u001b[1;33m\u001b[0m\u001b[0m\n\u001b[0m\u001b[0;32m    519\u001b[0m                 if (\n\u001b[0;32m    520\u001b[0m                     \u001b[0mamt\u001b[0m \u001b[1;33m!=\u001b[0m \u001b[1;36m0\u001b[0m \u001b[1;32mand\u001b[0m \u001b[1;32mnot\u001b[0m \u001b[0mdata\u001b[0m\u001b[1;33m\u001b[0m\u001b[1;33m\u001b[0m\u001b[0m\n",
      "\u001b[1;32mE:\\Anaconda\\lib\\http\\client.py\u001b[0m in \u001b[0;36mread\u001b[1;34m(self, amt)\u001b[0m\n\u001b[0;32m    452\u001b[0m             \u001b[1;31m# Amount is given, implement using readinto\u001b[0m\u001b[1;33m\u001b[0m\u001b[1;33m\u001b[0m\u001b[1;33m\u001b[0m\u001b[0m\n\u001b[0;32m    453\u001b[0m             \u001b[0mb\u001b[0m \u001b[1;33m=\u001b[0m \u001b[0mbytearray\u001b[0m\u001b[1;33m(\u001b[0m\u001b[0mamt\u001b[0m\u001b[1;33m)\u001b[0m\u001b[1;33m\u001b[0m\u001b[1;33m\u001b[0m\u001b[0m\n\u001b[1;32m--> 454\u001b[1;33m             \u001b[0mn\u001b[0m \u001b[1;33m=\u001b[0m \u001b[0mself\u001b[0m\u001b[1;33m.\u001b[0m\u001b[0mreadinto\u001b[0m\u001b[1;33m(\u001b[0m\u001b[0mb\u001b[0m\u001b[1;33m)\u001b[0m\u001b[1;33m\u001b[0m\u001b[1;33m\u001b[0m\u001b[0m\n\u001b[0m\u001b[0;32m    455\u001b[0m             \u001b[1;32mreturn\u001b[0m \u001b[0mmemoryview\u001b[0m\u001b[1;33m(\u001b[0m\u001b[0mb\u001b[0m\u001b[1;33m)\u001b[0m\u001b[1;33m[\u001b[0m\u001b[1;33m:\u001b[0m\u001b[0mn\u001b[0m\u001b[1;33m]\u001b[0m\u001b[1;33m.\u001b[0m\u001b[0mtobytes\u001b[0m\u001b[1;33m(\u001b[0m\u001b[1;33m)\u001b[0m\u001b[1;33m\u001b[0m\u001b[1;33m\u001b[0m\u001b[0m\n\u001b[0;32m    456\u001b[0m         \u001b[1;32melse\u001b[0m\u001b[1;33m:\u001b[0m\u001b[1;33m\u001b[0m\u001b[1;33m\u001b[0m\u001b[0m\n",
      "\u001b[1;32mE:\\Anaconda\\lib\\http\\client.py\u001b[0m in \u001b[0;36mreadinto\u001b[1;34m(self, b)\u001b[0m\n\u001b[0;32m    486\u001b[0m \u001b[1;33m\u001b[0m\u001b[0m\n\u001b[0;32m    487\u001b[0m         \u001b[1;32mif\u001b[0m \u001b[0mself\u001b[0m\u001b[1;33m.\u001b[0m\u001b[0mchunked\u001b[0m\u001b[1;33m:\u001b[0m\u001b[1;33m\u001b[0m\u001b[1;33m\u001b[0m\u001b[0m\n\u001b[1;32m--> 488\u001b[1;33m             \u001b[1;32mreturn\u001b[0m \u001b[0mself\u001b[0m\u001b[1;33m.\u001b[0m\u001b[0m_readinto_chunked\u001b[0m\u001b[1;33m(\u001b[0m\u001b[0mb\u001b[0m\u001b[1;33m)\u001b[0m\u001b[1;33m\u001b[0m\u001b[1;33m\u001b[0m\u001b[0m\n\u001b[0m\u001b[0;32m    489\u001b[0m \u001b[1;33m\u001b[0m\u001b[0m\n\u001b[0;32m    490\u001b[0m         \u001b[1;32mif\u001b[0m \u001b[0mself\u001b[0m\u001b[1;33m.\u001b[0m\u001b[0mlength\u001b[0m \u001b[1;32mis\u001b[0m \u001b[1;32mnot\u001b[0m \u001b[1;32mNone\u001b[0m\u001b[1;33m:\u001b[0m\u001b[1;33m\u001b[0m\u001b[1;33m\u001b[0m\u001b[0m\n",
      "\u001b[1;32mE:\\Anaconda\\lib\\http\\client.py\u001b[0m in \u001b[0;36m_readinto_chunked\u001b[1;34m(self, b)\u001b[0m\n\u001b[0;32m    581\u001b[0m         \u001b[1;32mtry\u001b[0m\u001b[1;33m:\u001b[0m\u001b[1;33m\u001b[0m\u001b[1;33m\u001b[0m\u001b[0m\n\u001b[0;32m    582\u001b[0m             \u001b[1;32mwhile\u001b[0m \u001b[1;32mTrue\u001b[0m\u001b[1;33m:\u001b[0m\u001b[1;33m\u001b[0m\u001b[1;33m\u001b[0m\u001b[0m\n\u001b[1;32m--> 583\u001b[1;33m                 \u001b[0mchunk_left\u001b[0m \u001b[1;33m=\u001b[0m \u001b[0mself\u001b[0m\u001b[1;33m.\u001b[0m\u001b[0m_get_chunk_left\u001b[0m\u001b[1;33m(\u001b[0m\u001b[1;33m)\u001b[0m\u001b[1;33m\u001b[0m\u001b[1;33m\u001b[0m\u001b[0m\n\u001b[0m\u001b[0;32m    584\u001b[0m                 \u001b[1;32mif\u001b[0m \u001b[0mchunk_left\u001b[0m \u001b[1;32mis\u001b[0m \u001b[1;32mNone\u001b[0m\u001b[1;33m:\u001b[0m\u001b[1;33m\u001b[0m\u001b[1;33m\u001b[0m\u001b[0m\n\u001b[0;32m    585\u001b[0m                     \u001b[1;32mreturn\u001b[0m \u001b[0mtotal_bytes\u001b[0m\u001b[1;33m\u001b[0m\u001b[1;33m\u001b[0m\u001b[0m\n",
      "\u001b[1;32mE:\\Anaconda\\lib\\http\\client.py\u001b[0m in \u001b[0;36m_get_chunk_left\u001b[1;34m(self)\u001b[0m\n\u001b[0;32m    549\u001b[0m                 \u001b[0mself\u001b[0m\u001b[1;33m.\u001b[0m\u001b[0m_safe_read\u001b[0m\u001b[1;33m(\u001b[0m\u001b[1;36m2\u001b[0m\u001b[1;33m)\u001b[0m  \u001b[1;31m# toss the CRLF at the end of the chunk\u001b[0m\u001b[1;33m\u001b[0m\u001b[1;33m\u001b[0m\u001b[0m\n\u001b[0;32m    550\u001b[0m             \u001b[1;32mtry\u001b[0m\u001b[1;33m:\u001b[0m\u001b[1;33m\u001b[0m\u001b[1;33m\u001b[0m\u001b[0m\n\u001b[1;32m--> 551\u001b[1;33m                 \u001b[0mchunk_left\u001b[0m \u001b[1;33m=\u001b[0m \u001b[0mself\u001b[0m\u001b[1;33m.\u001b[0m\u001b[0m_read_next_chunk_size\u001b[0m\u001b[1;33m(\u001b[0m\u001b[1;33m)\u001b[0m\u001b[1;33m\u001b[0m\u001b[1;33m\u001b[0m\u001b[0m\n\u001b[0m\u001b[0;32m    552\u001b[0m             \u001b[1;32mexcept\u001b[0m \u001b[0mValueError\u001b[0m\u001b[1;33m:\u001b[0m\u001b[1;33m\u001b[0m\u001b[1;33m\u001b[0m\u001b[0m\n\u001b[0;32m    553\u001b[0m                 \u001b[1;32mraise\u001b[0m \u001b[0mIncompleteRead\u001b[0m\u001b[1;33m(\u001b[0m\u001b[1;34mb''\u001b[0m\u001b[1;33m)\u001b[0m\u001b[1;33m\u001b[0m\u001b[1;33m\u001b[0m\u001b[0m\n",
      "\u001b[1;32mE:\\Anaconda\\lib\\http\\client.py\u001b[0m in \u001b[0;36m_read_next_chunk_size\u001b[1;34m(self)\u001b[0m\n\u001b[0;32m    509\u001b[0m     \u001b[1;32mdef\u001b[0m \u001b[0m_read_next_chunk_size\u001b[0m\u001b[1;33m(\u001b[0m\u001b[0mself\u001b[0m\u001b[1;33m)\u001b[0m\u001b[1;33m:\u001b[0m\u001b[1;33m\u001b[0m\u001b[1;33m\u001b[0m\u001b[0m\n\u001b[0;32m    510\u001b[0m         \u001b[1;31m# Read the next chunk size from the file\u001b[0m\u001b[1;33m\u001b[0m\u001b[1;33m\u001b[0m\u001b[1;33m\u001b[0m\u001b[0m\n\u001b[1;32m--> 511\u001b[1;33m         \u001b[0mline\u001b[0m \u001b[1;33m=\u001b[0m \u001b[0mself\u001b[0m\u001b[1;33m.\u001b[0m\u001b[0mfp\u001b[0m\u001b[1;33m.\u001b[0m\u001b[0mreadline\u001b[0m\u001b[1;33m(\u001b[0m\u001b[0m_MAXLINE\u001b[0m \u001b[1;33m+\u001b[0m \u001b[1;36m1\u001b[0m\u001b[1;33m)\u001b[0m\u001b[1;33m\u001b[0m\u001b[1;33m\u001b[0m\u001b[0m\n\u001b[0m\u001b[0;32m    512\u001b[0m         \u001b[1;32mif\u001b[0m \u001b[0mlen\u001b[0m\u001b[1;33m(\u001b[0m\u001b[0mline\u001b[0m\u001b[1;33m)\u001b[0m \u001b[1;33m>\u001b[0m \u001b[0m_MAXLINE\u001b[0m\u001b[1;33m:\u001b[0m\u001b[1;33m\u001b[0m\u001b[1;33m\u001b[0m\u001b[0m\n\u001b[0;32m    513\u001b[0m             \u001b[1;32mraise\u001b[0m \u001b[0mLineTooLong\u001b[0m\u001b[1;33m(\u001b[0m\u001b[1;34m\"chunk size\"\u001b[0m\u001b[1;33m)\u001b[0m\u001b[1;33m\u001b[0m\u001b[1;33m\u001b[0m\u001b[0m\n",
      "\u001b[1;32mE:\\Anaconda\\lib\\socket.py\u001b[0m in \u001b[0;36mreadinto\u001b[1;34m(self, b)\u001b[0m\n\u001b[0;32m    667\u001b[0m         \u001b[1;32mwhile\u001b[0m \u001b[1;32mTrue\u001b[0m\u001b[1;33m:\u001b[0m\u001b[1;33m\u001b[0m\u001b[1;33m\u001b[0m\u001b[0m\n\u001b[0;32m    668\u001b[0m             \u001b[1;32mtry\u001b[0m\u001b[1;33m:\u001b[0m\u001b[1;33m\u001b[0m\u001b[1;33m\u001b[0m\u001b[0m\n\u001b[1;32m--> 669\u001b[1;33m                 \u001b[1;32mreturn\u001b[0m \u001b[0mself\u001b[0m\u001b[1;33m.\u001b[0m\u001b[0m_sock\u001b[0m\u001b[1;33m.\u001b[0m\u001b[0mrecv_into\u001b[0m\u001b[1;33m(\u001b[0m\u001b[0mb\u001b[0m\u001b[1;33m)\u001b[0m\u001b[1;33m\u001b[0m\u001b[1;33m\u001b[0m\u001b[0m\n\u001b[0m\u001b[0;32m    670\u001b[0m             \u001b[1;32mexcept\u001b[0m \u001b[0mtimeout\u001b[0m\u001b[1;33m:\u001b[0m\u001b[1;33m\u001b[0m\u001b[1;33m\u001b[0m\u001b[0m\n\u001b[0;32m    671\u001b[0m                 \u001b[0mself\u001b[0m\u001b[1;33m.\u001b[0m\u001b[0m_timeout_occurred\u001b[0m \u001b[1;33m=\u001b[0m \u001b[1;32mTrue\u001b[0m\u001b[1;33m\u001b[0m\u001b[1;33m\u001b[0m\u001b[0m\n",
      "\u001b[1;32mE:\\Anaconda\\lib\\ssl.py\u001b[0m in \u001b[0;36mrecv_into\u001b[1;34m(self, buffer, nbytes, flags)\u001b[0m\n\u001b[0;32m   1239\u001b[0m                   \u001b[1;34m\"non-zero flags not allowed in calls to recv_into() on %s\"\u001b[0m \u001b[1;33m%\u001b[0m\u001b[1;33m\u001b[0m\u001b[1;33m\u001b[0m\u001b[0m\n\u001b[0;32m   1240\u001b[0m                   self.__class__)\n\u001b[1;32m-> 1241\u001b[1;33m             \u001b[1;32mreturn\u001b[0m \u001b[0mself\u001b[0m\u001b[1;33m.\u001b[0m\u001b[0mread\u001b[0m\u001b[1;33m(\u001b[0m\u001b[0mnbytes\u001b[0m\u001b[1;33m,\u001b[0m \u001b[0mbuffer\u001b[0m\u001b[1;33m)\u001b[0m\u001b[1;33m\u001b[0m\u001b[1;33m\u001b[0m\u001b[0m\n\u001b[0m\u001b[0;32m   1242\u001b[0m         \u001b[1;32melse\u001b[0m\u001b[1;33m:\u001b[0m\u001b[1;33m\u001b[0m\u001b[1;33m\u001b[0m\u001b[0m\n\u001b[0;32m   1243\u001b[0m             \u001b[1;32mreturn\u001b[0m \u001b[0msuper\u001b[0m\u001b[1;33m(\u001b[0m\u001b[1;33m)\u001b[0m\u001b[1;33m.\u001b[0m\u001b[0mrecv_into\u001b[0m\u001b[1;33m(\u001b[0m\u001b[0mbuffer\u001b[0m\u001b[1;33m,\u001b[0m \u001b[0mnbytes\u001b[0m\u001b[1;33m,\u001b[0m \u001b[0mflags\u001b[0m\u001b[1;33m)\u001b[0m\u001b[1;33m\u001b[0m\u001b[1;33m\u001b[0m\u001b[0m\n",
      "\u001b[1;32mE:\\Anaconda\\lib\\ssl.py\u001b[0m in \u001b[0;36mread\u001b[1;34m(self, len, buffer)\u001b[0m\n\u001b[0;32m   1097\u001b[0m         \u001b[1;32mtry\u001b[0m\u001b[1;33m:\u001b[0m\u001b[1;33m\u001b[0m\u001b[1;33m\u001b[0m\u001b[0m\n\u001b[0;32m   1098\u001b[0m             \u001b[1;32mif\u001b[0m \u001b[0mbuffer\u001b[0m \u001b[1;32mis\u001b[0m \u001b[1;32mnot\u001b[0m \u001b[1;32mNone\u001b[0m\u001b[1;33m:\u001b[0m\u001b[1;33m\u001b[0m\u001b[1;33m\u001b[0m\u001b[0m\n\u001b[1;32m-> 1099\u001b[1;33m                 \u001b[1;32mreturn\u001b[0m \u001b[0mself\u001b[0m\u001b[1;33m.\u001b[0m\u001b[0m_sslobj\u001b[0m\u001b[1;33m.\u001b[0m\u001b[0mread\u001b[0m\u001b[1;33m(\u001b[0m\u001b[0mlen\u001b[0m\u001b[1;33m,\u001b[0m \u001b[0mbuffer\u001b[0m\u001b[1;33m)\u001b[0m\u001b[1;33m\u001b[0m\u001b[1;33m\u001b[0m\u001b[0m\n\u001b[0m\u001b[0;32m   1100\u001b[0m             \u001b[1;32melse\u001b[0m\u001b[1;33m:\u001b[0m\u001b[1;33m\u001b[0m\u001b[1;33m\u001b[0m\u001b[0m\n\u001b[0;32m   1101\u001b[0m                 \u001b[1;32mreturn\u001b[0m \u001b[0mself\u001b[0m\u001b[1;33m.\u001b[0m\u001b[0m_sslobj\u001b[0m\u001b[1;33m.\u001b[0m\u001b[0mread\u001b[0m\u001b[1;33m(\u001b[0m\u001b[0mlen\u001b[0m\u001b[1;33m)\u001b[0m\u001b[1;33m\u001b[0m\u001b[1;33m\u001b[0m\u001b[0m\n",
      "\u001b[1;31mKeyboardInterrupt\u001b[0m: "
     ]
    }
   ],
   "source": [
    "myStream.filter(locations=[144.293405,-38.548275,145.493112,-37.505479])"
   ]
  },
  {
   "cell_type": "code",
   "execution_count": null,
   "metadata": {},
   "outputs": [],
   "source": [
    "myStream.running"
   ]
  },
  {
   "cell_type": "code",
   "execution_count": null,
   "metadata": {},
   "outputs": [],
   "source": [
    "myStream.disconnect()"
   ]
  },
  {
   "cell_type": "markdown",
   "metadata": {},
   "source": [
    "## 1.9 Particular Data Range"
   ]
  },
  {
   "cell_type": "code",
   "execution_count": null,
   "metadata": {},
   "outputs": [],
   "source": [
    "import datetime\n",
    "\n",
    "username = \"Nibelungenese\"\n",
    "startDate = datetime.datetime(2011, 6, 1, 0, 0, 0)\n",
    "endDate =   datetime.datetime(2014, 1, 1, 0, 0, 0)"
   ]
  },
  {
   "cell_type": "code",
   "execution_count": null,
   "metadata": {},
   "outputs": [],
   "source": [
    "tweets = []\n",
    "tmpTweets = api.user_timeline(username)"
   ]
  },
  {
   "cell_type": "code",
   "execution_count": null,
   "metadata": {},
   "outputs": [],
   "source": [
    "for tweet in tmpTweets:\n",
    "    if tweet.created_at < endDate and tweet.created_at > startDate:\n",
    "        print(tweet.created_at,\"Within the time period\")"
   ]
  },
  {
   "cell_type": "code",
   "execution_count": 1,
   "metadata": {},
   "outputs": [],
   "source": [
    "import nltk"
   ]
  },
  {
   "cell_type": "code",
   "execution_count": null,
   "metadata": {},
   "outputs": [],
   "source": []
  }
 ],
 "metadata": {
  "kernelspec": {
   "display_name": "Python 3",
   "language": "python",
   "name": "python3"
  },
  "language_info": {
   "codemirror_mode": {
    "name": "ipython",
    "version": 3
   },
   "file_extension": ".py",
   "mimetype": "text/x-python",
   "name": "python",
   "nbconvert_exporter": "python",
   "pygments_lexer": "ipython3",
   "version": "3.8.3"
  }
 },
 "nbformat": 4,
 "nbformat_minor": 4
}
